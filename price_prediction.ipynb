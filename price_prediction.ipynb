{
 "cells": [
  {
   "cell_type": "markdown",
   "id": "7abe5814-a26a-483b-8341-cfbaec2bbf97",
   "metadata": {},
   "source": [
    "## Price prediction"
   ]
  },
  {
   "cell_type": "code",
   "execution_count": 120,
   "id": "360a2a5a-ab0d-47b9-9bc2-7aa89536beff",
   "metadata": {},
   "outputs": [],
   "source": [
    "#import libraties\n",
    "\n",
    "import pandas as pd\n",
    "import numpy as np \n",
    "from matplotlib import pyplot as plt\n",
    "import seaborn as sns\n",
    "import scipy\n",
    "import re\n",
    "\n",
    "\n",
    "from sklearn.model_selection import train_test_split, KFold, cross_val_score, RandomizedSearchCV, GridSearchCV, RepeatedKFold\n",
    "from sklearn.preprocessing import RobustScaler, LabelEncoder\n",
    "from sklearn.metrics import mean_squared_error, r2_score\n",
    "from xgboost import XGBRegressor\n",
    "import xgboost as xgb\n",
    "\n",
    "\n",
    "from catboost import CatBoostRegressor\n",
    "from lightgbm import LGBMRegressor\n",
    "# final variable vor controlling random \n",
    "RANDOM_STATE = 17"
   ]
  },
  {
   "cell_type": "markdown",
   "id": "0048087a-bc93-473c-aa54-31e7fd01d72f",
   "metadata": {},
   "source": [
    "### 1.Brief look at dataframe"
   ]
  },
  {
   "cell_type": "code",
   "execution_count": 21,
   "id": "f87cd639-4ba5-4886-98b6-5a8f32883b74",
   "metadata": {},
   "outputs": [],
   "source": [
    "df= pd.read_csv('AB_NYC_2019.csv')"
   ]
  },
  {
   "cell_type": "code",
   "execution_count": 22,
   "id": "e10c5b43-8a95-4bee-b7ab-4118caa2ba53",
   "metadata": {},
   "outputs": [
    {
     "data": {
      "text/html": [
       "<div>\n",
       "<style scoped>\n",
       "    .dataframe tbody tr th:only-of-type {\n",
       "        vertical-align: middle;\n",
       "    }\n",
       "\n",
       "    .dataframe tbody tr th {\n",
       "        vertical-align: top;\n",
       "    }\n",
       "\n",
       "    .dataframe thead th {\n",
       "        text-align: right;\n",
       "    }\n",
       "</style>\n",
       "<table border=\"1\" class=\"dataframe\">\n",
       "  <thead>\n",
       "    <tr style=\"text-align: right;\">\n",
       "      <th></th>\n",
       "      <th>id</th>\n",
       "      <th>name</th>\n",
       "      <th>host_id</th>\n",
       "      <th>host_name</th>\n",
       "      <th>neighbourhood_group</th>\n",
       "      <th>neighbourhood</th>\n",
       "      <th>latitude</th>\n",
       "      <th>longitude</th>\n",
       "      <th>room_type</th>\n",
       "      <th>price</th>\n",
       "      <th>minimum_nights</th>\n",
       "      <th>number_of_reviews</th>\n",
       "      <th>last_review</th>\n",
       "      <th>reviews_per_month</th>\n",
       "      <th>calculated_host_listings_count</th>\n",
       "      <th>availability_365</th>\n",
       "    </tr>\n",
       "  </thead>\n",
       "  <tbody>\n",
       "    <tr>\n",
       "      <th>0</th>\n",
       "      <td>2539</td>\n",
       "      <td>Clean &amp; quiet apt home by the park</td>\n",
       "      <td>2787</td>\n",
       "      <td>John</td>\n",
       "      <td>Brooklyn</td>\n",
       "      <td>Kensington</td>\n",
       "      <td>40.64749</td>\n",
       "      <td>-73.97237</td>\n",
       "      <td>Private room</td>\n",
       "      <td>149</td>\n",
       "      <td>1</td>\n",
       "      <td>9</td>\n",
       "      <td>2018-10-19</td>\n",
       "      <td>0.21</td>\n",
       "      <td>6</td>\n",
       "      <td>365</td>\n",
       "    </tr>\n",
       "    <tr>\n",
       "      <th>1</th>\n",
       "      <td>2595</td>\n",
       "      <td>Skylit Midtown Castle</td>\n",
       "      <td>2845</td>\n",
       "      <td>Jennifer</td>\n",
       "      <td>Manhattan</td>\n",
       "      <td>Midtown</td>\n",
       "      <td>40.75362</td>\n",
       "      <td>-73.98377</td>\n",
       "      <td>Entire home/apt</td>\n",
       "      <td>225</td>\n",
       "      <td>1</td>\n",
       "      <td>45</td>\n",
       "      <td>2019-05-21</td>\n",
       "      <td>0.38</td>\n",
       "      <td>2</td>\n",
       "      <td>355</td>\n",
       "    </tr>\n",
       "    <tr>\n",
       "      <th>2</th>\n",
       "      <td>3647</td>\n",
       "      <td>THE VILLAGE OF HARLEM....NEW YORK !</td>\n",
       "      <td>4632</td>\n",
       "      <td>Elisabeth</td>\n",
       "      <td>Manhattan</td>\n",
       "      <td>Harlem</td>\n",
       "      <td>40.80902</td>\n",
       "      <td>-73.94190</td>\n",
       "      <td>Private room</td>\n",
       "      <td>150</td>\n",
       "      <td>3</td>\n",
       "      <td>0</td>\n",
       "      <td>NaN</td>\n",
       "      <td>NaN</td>\n",
       "      <td>1</td>\n",
       "      <td>365</td>\n",
       "    </tr>\n",
       "    <tr>\n",
       "      <th>3</th>\n",
       "      <td>3831</td>\n",
       "      <td>Cozy Entire Floor of Brownstone</td>\n",
       "      <td>4869</td>\n",
       "      <td>LisaRoxanne</td>\n",
       "      <td>Brooklyn</td>\n",
       "      <td>Clinton Hill</td>\n",
       "      <td>40.68514</td>\n",
       "      <td>-73.95976</td>\n",
       "      <td>Entire home/apt</td>\n",
       "      <td>89</td>\n",
       "      <td>1</td>\n",
       "      <td>270</td>\n",
       "      <td>2019-07-05</td>\n",
       "      <td>4.64</td>\n",
       "      <td>1</td>\n",
       "      <td>194</td>\n",
       "    </tr>\n",
       "    <tr>\n",
       "      <th>4</th>\n",
       "      <td>5022</td>\n",
       "      <td>Entire Apt: Spacious Studio/Loft by central park</td>\n",
       "      <td>7192</td>\n",
       "      <td>Laura</td>\n",
       "      <td>Manhattan</td>\n",
       "      <td>East Harlem</td>\n",
       "      <td>40.79851</td>\n",
       "      <td>-73.94399</td>\n",
       "      <td>Entire home/apt</td>\n",
       "      <td>80</td>\n",
       "      <td>10</td>\n",
       "      <td>9</td>\n",
       "      <td>2018-11-19</td>\n",
       "      <td>0.10</td>\n",
       "      <td>1</td>\n",
       "      <td>0</td>\n",
       "    </tr>\n",
       "  </tbody>\n",
       "</table>\n",
       "</div>"
      ],
      "text/plain": [
       "     id                                              name  host_id  \\\n",
       "0  2539                Clean & quiet apt home by the park     2787   \n",
       "1  2595                             Skylit Midtown Castle     2845   \n",
       "2  3647               THE VILLAGE OF HARLEM....NEW YORK !     4632   \n",
       "3  3831                   Cozy Entire Floor of Brownstone     4869   \n",
       "4  5022  Entire Apt: Spacious Studio/Loft by central park     7192   \n",
       "\n",
       "     host_name neighbourhood_group neighbourhood  latitude  longitude  \\\n",
       "0         John            Brooklyn    Kensington  40.64749  -73.97237   \n",
       "1     Jennifer           Manhattan       Midtown  40.75362  -73.98377   \n",
       "2    Elisabeth           Manhattan        Harlem  40.80902  -73.94190   \n",
       "3  LisaRoxanne            Brooklyn  Clinton Hill  40.68514  -73.95976   \n",
       "4        Laura           Manhattan   East Harlem  40.79851  -73.94399   \n",
       "\n",
       "         room_type  price  minimum_nights  number_of_reviews last_review  \\\n",
       "0     Private room    149               1                  9  2018-10-19   \n",
       "1  Entire home/apt    225               1                 45  2019-05-21   \n",
       "2     Private room    150               3                  0         NaN   \n",
       "3  Entire home/apt     89               1                270  2019-07-05   \n",
       "4  Entire home/apt     80              10                  9  2018-11-19   \n",
       "\n",
       "   reviews_per_month  calculated_host_listings_count  availability_365  \n",
       "0               0.21                               6               365  \n",
       "1               0.38                               2               355  \n",
       "2                NaN                               1               365  \n",
       "3               4.64                               1               194  \n",
       "4               0.10                               1                 0  "
      ]
     },
     "execution_count": 22,
     "metadata": {},
     "output_type": "execute_result"
    }
   ],
   "source": [
    "df.head()"
   ]
  },
  {
   "cell_type": "code",
   "execution_count": 23,
   "id": "3c260902-b4db-4505-8865-bf74dfed239e",
   "metadata": {},
   "outputs": [
    {
     "data": {
      "text/plain": [
       "(48895, 16)"
      ]
     },
     "execution_count": 23,
     "metadata": {},
     "output_type": "execute_result"
    }
   ],
   "source": [
    "df.shape"
   ]
  },
  {
   "cell_type": "code",
   "execution_count": 24,
   "id": "acfaa723-4daa-411e-823c-6911986ee77d",
   "metadata": {},
   "outputs": [],
   "source": [
    "# dropping variables that are useless  for prediction\n",
    "df.drop(['host_name','name', 'id', 'host_id'], axis=1, inplace=True)"
   ]
  },
  {
   "cell_type": "markdown",
   "id": "a47cc003-27a8-4473-8d6f-2103453a673c",
   "metadata": {},
   "source": [
    "### 1.2 Dealing with NaN variables"
   ]
  },
  {
   "cell_type": "code",
   "execution_count": 25,
   "id": "fcc3af8f-766f-4762-8014-fd2fb8534e1f",
   "metadata": {},
   "outputs": [
    {
     "data": {
      "text/plain": [
       "neighbourhood_group                   0\n",
       "neighbourhood                         0\n",
       "latitude                              0\n",
       "longitude                             0\n",
       "room_type                             0\n",
       "price                                 0\n",
       "minimum_nights                        0\n",
       "number_of_reviews                     0\n",
       "last_review                       10052\n",
       "reviews_per_month                 10052\n",
       "calculated_host_listings_count        0\n",
       "availability_365                      0\n",
       "dtype: int64"
      ]
     },
     "execution_count": 25,
     "metadata": {},
     "output_type": "execute_result"
    }
   ],
   "source": [
    "df.isna().sum()"
   ]
  },
  {
   "cell_type": "code",
   "execution_count": 26,
   "id": "338a29d8-30fe-487c-a53c-58ca69c2a5aa",
   "metadata": {},
   "outputs": [],
   "source": [
    "df['reviews_per_month'] = df['reviews_per_month'].fillna(0)"
   ]
  },
  {
   "cell_type": "code",
   "execution_count": 27,
   "id": "8aa9b631-e7f9-44fd-b560-0b706bc77aa2",
   "metadata": {},
   "outputs": [],
   "source": [
    "df['last_review'] = pd.to_datetime(df['last_review'],infer_datetime_format=True) "
   ]
  },
  {
   "cell_type": "code",
   "execution_count": 28,
   "id": "2cf67db7-8064-4d45-b103-2ce86fbd98bd",
   "metadata": {},
   "outputs": [],
   "source": [
    "earliest = min(df['last_review'])\n",
    "df['last_review'] = df['last_review'].fillna(earliest)\n",
    "df['last_review'] = df['last_review'].apply(lambda x: x.toordinal() - earliest.toordinal())"
   ]
  },
  {
   "cell_type": "code",
   "execution_count": 29,
   "id": "0eca28a8-07d0-4641-a9ab-f7f6df9dc6a8",
   "metadata": {},
   "outputs": [
    {
     "data": {
      "text/plain": [
       "neighbourhood_group               0\n",
       "neighbourhood                     0\n",
       "latitude                          0\n",
       "longitude                         0\n",
       "room_type                         0\n",
       "price                             0\n",
       "minimum_nights                    0\n",
       "number_of_reviews                 0\n",
       "last_review                       0\n",
       "reviews_per_month                 0\n",
       "calculated_host_listings_count    0\n",
       "availability_365                  0\n",
       "dtype: int64"
      ]
     },
     "execution_count": 29,
     "metadata": {},
     "output_type": "execute_result"
    }
   ],
   "source": [
    "df.isna().sum()"
   ]
  },
  {
   "cell_type": "markdown",
   "id": "95aa0436-e83e-47c5-af45-1bef76a4880b",
   "metadata": {},
   "source": [
    "#### 2. Distribution of numerical features "
   ]
  },
  {
   "cell_type": "markdown",
   "id": "45e306ff-6e89-4495-ab13-aa7263a911cd",
   "metadata": {},
   "source": [
    "There is no reason for changing latitude, longitude,number_of_reviews,last_review,calculated_host_listings_count.\n",
    "\n",
    "We will work with $price$,$minimum_nights$,$availability_365$ and $reviews_per_month$"
   ]
  },
  {
   "cell_type": "code",
   "execution_count": 31,
   "id": "8830e129-e31a-4685-8f8d-cd6dcfa2e4bf",
   "metadata": {},
   "outputs": [
    {
     "name": "stdout",
     "output_type": "stream",
     "text": [
      "<class 'pandas.core.frame.DataFrame'>\n",
      "RangeIndex: 48895 entries, 0 to 48894\n",
      "Data columns (total 12 columns):\n",
      " #   Column                          Non-Null Count  Dtype  \n",
      "---  ------                          --------------  -----  \n",
      " 0   neighbourhood_group             48895 non-null  object \n",
      " 1   neighbourhood                   48895 non-null  object \n",
      " 2   latitude                        48895 non-null  float64\n",
      " 3   longitude                       48895 non-null  float64\n",
      " 4   room_type                       48895 non-null  object \n",
      " 5   price                           48895 non-null  int64  \n",
      " 6   minimum_nights                  48895 non-null  int64  \n",
      " 7   number_of_reviews               48895 non-null  int64  \n",
      " 8   last_review                     48895 non-null  int64  \n",
      " 9   reviews_per_month               48895 non-null  float64\n",
      " 10  calculated_host_listings_count  48895 non-null  int64  \n",
      " 11  availability_365                48895 non-null  int64  \n",
      "dtypes: float64(3), int64(6), object(3)\n",
      "memory usage: 4.5+ MB\n"
     ]
    }
   ],
   "source": [
    "df.info()"
   ]
  },
  {
   "cell_type": "markdown",
   "id": "c663c2c5-2236-4f5f-b93a-1437c26b7d72",
   "metadata": {},
   "source": [
    "#### 2.1 Price"
   ]
  },
  {
   "cell_type": "markdown",
   "id": "a70c4f59-9b50-4212-a25e-621f31062959",
   "metadata": {},
   "source": [
    "Price is highly skewed to left. Let's try fixing this with <code>log1p</code>"
   ]
  },
  {
   "cell_type": "code",
   "execution_count": 33,
   "id": "7734eed1-a795-4750-8577-0346fcc7d3ee",
   "metadata": {},
   "outputs": [
    {
     "data": {
      "text/plain": [
       "<AxesSubplot:xlabel='price', ylabel='Count'>"
      ]
     },
     "execution_count": 33,
     "metadata": {},
     "output_type": "execute_result"
    },
    {
     "data": {
      "image/png": "[encoded data removed]",
      "text/plain": [
       "<Figure size 432x288 with 1 Axes>"
      ]
     },
     "metadata": {
      "needs_background": "light"
     },
     "output_type": "display_data"
    }
   ],
   "source": [
    "sns.histplot(data=df, x='price', kde=True)"
   ]
  },
  {
   "cell_type": "code",
   "execution_count": 34,
   "id": "372859af-f0e1-451f-aba1-81be30c01f19",
   "metadata": {},
   "outputs": [
    {
     "data": {
      "text/plain": [
       "<AxesSubplot:xlabel='price', ylabel='Count'>"
      ]
     },
     "execution_count": 34,
     "metadata": {},
     "output_type": "execute_result"
    },
    {
     "data": {
      "image/png": "[encoded data removed]",
      "text/plain": [
       "<Figure size 432x288 with 1 Axes>"
      ]
     },
     "metadata": {
      "needs_background": "light"
     },
     "output_type": "display_data"
    }
   ],
   "source": [
    "sns.histplot(np.log1p(df.price), kde=True)"
   ]
  },
  {
   "cell_type": "markdown",
   "id": "c2ba43c0-bfa9-4715-a530-790940e39482",
   "metadata": {},
   "source": [
    "It helped, but now we need to deal with outliers"
   ]
  },
  {
   "cell_type": "code",
   "execution_count": 35,
   "id": "a34864a7-1e2b-4f35-a28c-39d360d2a2f7",
   "metadata": {},
   "outputs": [],
   "source": [
    "df = df[np.log1p(df['price']) < 8]\n",
    "df = df[np.log1p(df['price']) > 3]"
   ]
  },
  {
   "cell_type": "code",
   "execution_count": 36,
   "id": "e1b86da8-a1db-477c-ad8b-64728a5a92f2",
   "metadata": {},
   "outputs": [],
   "source": [
    "df['price'] = np.log1p(df['price'])"
   ]
  },
  {
   "cell_type": "code",
   "execution_count": 40,
   "id": "fa96ea6c-4e34-4050-9dbc-fcd4602e2b2c",
   "metadata": {},
   "outputs": [
    {
     "data": {
      "text/plain": [
       "<AxesSubplot:xlabel='price', ylabel='Count'>"
      ]
     },
     "execution_count": 40,
     "metadata": {},
     "output_type": "execute_result"
    },
    {
     "data": {
      "image/png": "[encoded data removed]",
      "text/plain": [
       "<Figure size 432x288 with 1 Axes>"
      ]
     },
     "metadata": {
      "needs_background": "light"
     },
     "output_type": "display_data"
    }
   ],
   "source": [
    "sns.histplot(data=df, x='price', kde=True)"
   ]
  },
  {
   "cell_type": "markdown",
   "id": "75f6dddc-2715-434c-b426-c3e3459e7150",
   "metadata": {},
   "source": [
    "#### 2.2 Minimum nights"
   ]
  },
  {
   "cell_type": "markdown",
   "id": "58dac64e-0758-4e56-972f-504f9fafa73c",
   "metadata": {},
   "source": [
    "Same distribution as **price**"
   ]
  },
  {
   "cell_type": "code",
   "execution_count": 42,
   "id": "3c572d37-d268-4e4f-bab0-4968118517b0",
   "metadata": {},
   "outputs": [
    {
     "name": "stderr",
     "output_type": "stream",
     "text": [
      "C:\\Users\\user\\anaconda3\\lib\\site-packages\\seaborn\\distributions.py:2557: FutureWarning: `distplot` is a deprecated function and will be removed in a future version. Please adapt your code to use either `displot` (a figure-level function with similar flexibility) or `histplot` (an axes-level function for histograms).\n",
      "  warnings.warn(msg, FutureWarning)\n"
     ]
    },
    {
     "data": {
      "text/plain": [
       "<AxesSubplot:xlabel='minimum_nights', ylabel='Density'>"
      ]
     },
     "execution_count": 42,
     "metadata": {},
     "output_type": "execute_result"
    },
    {
     "data": {
      "image/png": "[encoded data removed]",
      "text/plain": [
       "<Figure size 432x288 with 1 Axes>"
      ]
     },
     "metadata": {
      "needs_background": "light"
     },
     "output_type": "display_data"
    }
   ],
   "source": [
    "sns.distplot(df.minimum_nights)"
   ]
  },
  {
   "cell_type": "code",
   "execution_count": 43,
   "id": "24335653-5b9d-4c97-a25e-740f7502f1df",
   "metadata": {},
   "outputs": [],
   "source": [
    "df['minimum_nights'] = np.log1p(df['minimum_nights'])"
   ]
  },
  {
   "cell_type": "code",
   "execution_count": 44,
   "id": "6c1f74a5-dc29-4ccd-b443-42f3bd5e50b9",
   "metadata": {},
   "outputs": [
    {
     "name": "stderr",
     "output_type": "stream",
     "text": [
      "C:\\Users\\user\\anaconda3\\lib\\site-packages\\seaborn\\distributions.py:2557: FutureWarning: `distplot` is a deprecated function and will be removed in a future version. Please adapt your code to use either `displot` (a figure-level function with similar flexibility) or `histplot` (an axes-level function for histograms).\n",
      "  warnings.warn(msg, FutureWarning)\n"
     ]
    },
    {
     "data": {
      "text/plain": [
       "<AxesSubplot:xlabel='minimum_nights', ylabel='Density'>"
      ]
     },
     "execution_count": 44,
     "metadata": {},
     "output_type": "execute_result"
    },
    {
     "data": {
      "image/png": "[encoded data removed]",
      "text/plain": [
       "<Figure size 432x288 with 1 Axes>"
      ]
     },
     "metadata": {
      "needs_background": "light"
     },
     "output_type": "display_data"
    }
   ],
   "source": [
    "sns.distplot(df.minimum_nights)"
   ]
  },
  {
   "cell_type": "markdown",
   "id": "6e4dc410-fad0-4e5f-8755-2a5001bbb629",
   "metadata": {},
   "source": [
    "#### 2.3 Reviews per month"
   ]
  },
  {
   "cell_type": "markdown",
   "id": "a1fc7926-1106-4eb6-8d5d-9041b669bca0",
   "metadata": {},
   "source": [
    "Most variables are skewed to left, we need to deal with outliers"
   ]
  },
  {
   "cell_type": "code",
   "execution_count": 46,
   "id": "5f940476-4e1c-41e7-95dc-f1a1526e5477",
   "metadata": {},
   "outputs": [
    {
     "name": "stderr",
     "output_type": "stream",
     "text": [
      "C:\\Users\\user\\anaconda3\\lib\\site-packages\\seaborn\\distributions.py:2557: FutureWarning: `distplot` is a deprecated function and will be removed in a future version. Please adapt your code to use either `displot` (a figure-level function with similar flexibility) or `histplot` (an axes-level function for histograms).\n",
      "  warnings.warn(msg, FutureWarning)\n"
     ]
    },
    {
     "data": {
      "text/plain": [
       "<AxesSubplot:xlabel='reviews_per_month', ylabel='Density'>"
      ]
     },
     "execution_count": 46,
     "metadata": {},
     "output_type": "execute_result"
    },
    {
     "data": {
      "image/png": "[encoded data removed]",
      "text/plain": [
       "<Figure size 432x288 with 1 Axes>"
      ]
     },
     "metadata": {
      "needs_background": "light"
     },
     "output_type": "display_data"
    }
   ],
   "source": [
    "sns.distplot(df.reviews_per_month)"
   ]
  },
  {
   "cell_type": "code",
   "execution_count": 47,
   "id": "2a2d7204-b630-4ad1-b351-2d9e93a1b8f7",
   "metadata": {},
   "outputs": [],
   "source": [
    "df['reviews_per_month'] = df[df['reviews_per_month'] < 17.5]['reviews_per_month']\n"
   ]
  },
  {
   "cell_type": "code",
   "execution_count": 53,
   "id": "a6e85c85-bb0c-40c6-b430-042cf9fbc85e",
   "metadata": {},
   "outputs": [],
   "source": [
    "df['no_reviews'] = df['reviews_per_month']==0"
   ]
  },
  {
   "cell_type": "markdown",
   "id": "bf87c12c-69e7-44d9-b95f-c75b65a129ed",
   "metadata": {},
   "source": [
    "#### 2.4 Availability 365"
   ]
  },
  {
   "cell_type": "code",
   "execution_count": 54,
   "id": "5a24235e-8d06-463f-9892-6292d5c3c00f",
   "metadata": {},
   "outputs": [
    {
     "name": "stderr",
     "output_type": "stream",
     "text": [
      "C:\\Users\\user\\anaconda3\\lib\\site-packages\\seaborn\\distributions.py:2557: FutureWarning: `distplot` is a deprecated function and will be removed in a future version. Please adapt your code to use either `displot` (a figure-level function with similar flexibility) or `histplot` (an axes-level function for histograms).\n",
      "  warnings.warn(msg, FutureWarning)\n"
     ]
    },
    {
     "data": {
      "text/plain": [
       "<AxesSubplot:xlabel='availability_365', ylabel='Density'>"
      ]
     },
     "execution_count": 54,
     "metadata": {},
     "output_type": "execute_result"
    },
    {
     "data": {
      "image/png": "[encoded data removed]",
      "text/plain": [
       "<Figure size 432x288 with 1 Axes>"
      ]
     },
     "metadata": {
      "needs_background": "light"
     },
     "output_type": "display_data"
    }
   ],
   "source": [
    "sns.distplot(df.availability_365)"
   ]
  },
  {
   "cell_type": "markdown",
   "id": "e97fb8e8-6bc6-4afa-9122-554dafa0ebc7",
   "metadata": {},
   "source": [
    "As we can see, most variables are distributed near 0 and 365. We will code this feature :\n",
    "\n",
    "- all_year_avail - if available more than 353 days a year\n",
    "- low_avail -  if available less than 12 days a year"
   ]
  },
  {
   "cell_type": "code",
   "execution_count": 55,
   "id": "10a75ef8-5baa-4617-83d3-f3b82c782698",
   "metadata": {},
   "outputs": [],
   "source": [
    "df['all_year_avail'] = df['availability_365']>353\n",
    "df['low_avail'] = df['availability_365']< 12\n"
   ]
  },
  {
   "cell_type": "code",
   "execution_count": 56,
   "id": "715e0409-6402-46ae-ab32-5685102f608d",
   "metadata": {},
   "outputs": [
    {
     "data": {
      "text/html": [
       "<div>\n",
       "<style scoped>\n",
       "    .dataframe tbody tr th:only-of-type {\n",
       "        vertical-align: middle;\n",
       "    }\n",
       "\n",
       "    .dataframe tbody tr th {\n",
       "        vertical-align: top;\n",
       "    }\n",
       "\n",
       "    .dataframe thead th {\n",
       "        text-align: right;\n",
       "    }\n",
       "</style>\n",
       "<table border=\"1\" class=\"dataframe\">\n",
       "  <thead>\n",
       "    <tr style=\"text-align: right;\">\n",
       "      <th></th>\n",
       "      <th>neighbourhood_group</th>\n",
       "      <th>neighbourhood</th>\n",
       "      <th>latitude</th>\n",
       "      <th>longitude</th>\n",
       "      <th>room_type</th>\n",
       "      <th>price</th>\n",
       "      <th>minimum_nights</th>\n",
       "      <th>number_of_reviews</th>\n",
       "      <th>last_review</th>\n",
       "      <th>reviews_per_month</th>\n",
       "      <th>calculated_host_listings_count</th>\n",
       "      <th>availability_365</th>\n",
       "      <th>no_reviews</th>\n",
       "      <th>all_year_avail</th>\n",
       "      <th>low_avail</th>\n",
       "    </tr>\n",
       "  </thead>\n",
       "  <tbody>\n",
       "    <tr>\n",
       "      <th>0</th>\n",
       "      <td>Brooklyn</td>\n",
       "      <td>Kensington</td>\n",
       "      <td>40.64749</td>\n",
       "      <td>-73.97237</td>\n",
       "      <td>Private room</td>\n",
       "      <td>5.010635</td>\n",
       "      <td>0.693147</td>\n",
       "      <td>9</td>\n",
       "      <td>2762</td>\n",
       "      <td>0.21</td>\n",
       "      <td>6</td>\n",
       "      <td>365</td>\n",
       "      <td>False</td>\n",
       "      <td>True</td>\n",
       "      <td>False</td>\n",
       "    </tr>\n",
       "    <tr>\n",
       "      <th>1</th>\n",
       "      <td>Manhattan</td>\n",
       "      <td>Midtown</td>\n",
       "      <td>40.75362</td>\n",
       "      <td>-73.98377</td>\n",
       "      <td>Entire home/apt</td>\n",
       "      <td>5.420535</td>\n",
       "      <td>0.693147</td>\n",
       "      <td>45</td>\n",
       "      <td>2976</td>\n",
       "      <td>0.38</td>\n",
       "      <td>2</td>\n",
       "      <td>355</td>\n",
       "      <td>False</td>\n",
       "      <td>True</td>\n",
       "      <td>False</td>\n",
       "    </tr>\n",
       "    <tr>\n",
       "      <th>2</th>\n",
       "      <td>Manhattan</td>\n",
       "      <td>Harlem</td>\n",
       "      <td>40.80902</td>\n",
       "      <td>-73.94190</td>\n",
       "      <td>Private room</td>\n",
       "      <td>5.017280</td>\n",
       "      <td>1.386294</td>\n",
       "      <td>0</td>\n",
       "      <td>0</td>\n",
       "      <td>0.00</td>\n",
       "      <td>1</td>\n",
       "      <td>365</td>\n",
       "      <td>True</td>\n",
       "      <td>True</td>\n",
       "      <td>False</td>\n",
       "    </tr>\n",
       "    <tr>\n",
       "      <th>3</th>\n",
       "      <td>Brooklyn</td>\n",
       "      <td>Clinton Hill</td>\n",
       "      <td>40.68514</td>\n",
       "      <td>-73.95976</td>\n",
       "      <td>Entire home/apt</td>\n",
       "      <td>4.499810</td>\n",
       "      <td>0.693147</td>\n",
       "      <td>270</td>\n",
       "      <td>3021</td>\n",
       "      <td>4.64</td>\n",
       "      <td>1</td>\n",
       "      <td>194</td>\n",
       "      <td>False</td>\n",
       "      <td>False</td>\n",
       "      <td>False</td>\n",
       "    </tr>\n",
       "    <tr>\n",
       "      <th>4</th>\n",
       "      <td>Manhattan</td>\n",
       "      <td>East Harlem</td>\n",
       "      <td>40.79851</td>\n",
       "      <td>-73.94399</td>\n",
       "      <td>Entire home/apt</td>\n",
       "      <td>4.394449</td>\n",
       "      <td>2.397895</td>\n",
       "      <td>9</td>\n",
       "      <td>2793</td>\n",
       "      <td>0.10</td>\n",
       "      <td>1</td>\n",
       "      <td>0</td>\n",
       "      <td>False</td>\n",
       "      <td>False</td>\n",
       "      <td>True</td>\n",
       "    </tr>\n",
       "    <tr>\n",
       "      <th>...</th>\n",
       "      <td>...</td>\n",
       "      <td>...</td>\n",
       "      <td>...</td>\n",
       "      <td>...</td>\n",
       "      <td>...</td>\n",
       "      <td>...</td>\n",
       "      <td>...</td>\n",
       "      <td>...</td>\n",
       "      <td>...</td>\n",
       "      <td>...</td>\n",
       "      <td>...</td>\n",
       "      <td>...</td>\n",
       "      <td>...</td>\n",
       "      <td>...</td>\n",
       "      <td>...</td>\n",
       "    </tr>\n",
       "    <tr>\n",
       "      <th>48890</th>\n",
       "      <td>Brooklyn</td>\n",
       "      <td>Bedford-Stuyvesant</td>\n",
       "      <td>40.67853</td>\n",
       "      <td>-73.94995</td>\n",
       "      <td>Private room</td>\n",
       "      <td>4.262680</td>\n",
       "      <td>1.098612</td>\n",
       "      <td>0</td>\n",
       "      <td>0</td>\n",
       "      <td>0.00</td>\n",
       "      <td>2</td>\n",
       "      <td>9</td>\n",
       "      <td>True</td>\n",
       "      <td>False</td>\n",
       "      <td>True</td>\n",
       "    </tr>\n",
       "    <tr>\n",
       "      <th>48891</th>\n",
       "      <td>Brooklyn</td>\n",
       "      <td>Bushwick</td>\n",
       "      <td>40.70184</td>\n",
       "      <td>-73.93317</td>\n",
       "      <td>Private room</td>\n",
       "      <td>3.713572</td>\n",
       "      <td>1.609438</td>\n",
       "      <td>0</td>\n",
       "      <td>0</td>\n",
       "      <td>0.00</td>\n",
       "      <td>2</td>\n",
       "      <td>36</td>\n",
       "      <td>True</td>\n",
       "      <td>False</td>\n",
       "      <td>False</td>\n",
       "    </tr>\n",
       "    <tr>\n",
       "      <th>48892</th>\n",
       "      <td>Manhattan</td>\n",
       "      <td>Harlem</td>\n",
       "      <td>40.81475</td>\n",
       "      <td>-73.94867</td>\n",
       "      <td>Entire home/apt</td>\n",
       "      <td>4.753590</td>\n",
       "      <td>2.397895</td>\n",
       "      <td>0</td>\n",
       "      <td>0</td>\n",
       "      <td>0.00</td>\n",
       "      <td>1</td>\n",
       "      <td>27</td>\n",
       "      <td>True</td>\n",
       "      <td>False</td>\n",
       "      <td>False</td>\n",
       "    </tr>\n",
       "    <tr>\n",
       "      <th>48893</th>\n",
       "      <td>Manhattan</td>\n",
       "      <td>Hell's Kitchen</td>\n",
       "      <td>40.75751</td>\n",
       "      <td>-73.99112</td>\n",
       "      <td>Shared room</td>\n",
       "      <td>4.025352</td>\n",
       "      <td>0.693147</td>\n",
       "      <td>0</td>\n",
       "      <td>0</td>\n",
       "      <td>0.00</td>\n",
       "      <td>6</td>\n",
       "      <td>2</td>\n",
       "      <td>True</td>\n",
       "      <td>False</td>\n",
       "      <td>True</td>\n",
       "    </tr>\n",
       "    <tr>\n",
       "      <th>48894</th>\n",
       "      <td>Manhattan</td>\n",
       "      <td>Hell's Kitchen</td>\n",
       "      <td>40.76404</td>\n",
       "      <td>-73.98933</td>\n",
       "      <td>Private room</td>\n",
       "      <td>4.510860</td>\n",
       "      <td>2.079442</td>\n",
       "      <td>0</td>\n",
       "      <td>0</td>\n",
       "      <td>0.00</td>\n",
       "      <td>1</td>\n",
       "      <td>23</td>\n",
       "      <td>True</td>\n",
       "      <td>False</td>\n",
       "      <td>False</td>\n",
       "    </tr>\n",
       "  </tbody>\n",
       "</table>\n",
       "<p>48784 rows × 15 columns</p>\n",
       "</div>"
      ],
      "text/plain": [
       "      neighbourhood_group       neighbourhood  latitude  longitude  \\\n",
       "0                Brooklyn          Kensington  40.64749  -73.97237   \n",
       "1               Manhattan             Midtown  40.75362  -73.98377   \n",
       "2               Manhattan              Harlem  40.80902  -73.94190   \n",
       "3                Brooklyn        Clinton Hill  40.68514  -73.95976   \n",
       "4               Manhattan         East Harlem  40.79851  -73.94399   \n",
       "...                   ...                 ...       ...        ...   \n",
       "48890            Brooklyn  Bedford-Stuyvesant  40.67853  -73.94995   \n",
       "48891            Brooklyn            Bushwick  40.70184  -73.93317   \n",
       "48892           Manhattan              Harlem  40.81475  -73.94867   \n",
       "48893           Manhattan      Hell's Kitchen  40.75751  -73.99112   \n",
       "48894           Manhattan      Hell's Kitchen  40.76404  -73.98933   \n",
       "\n",
       "             room_type     price  minimum_nights  number_of_reviews  \\\n",
       "0         Private room  5.010635        0.693147                  9   \n",
       "1      Entire home/apt  5.420535        0.693147                 45   \n",
       "2         Private room  5.017280        1.386294                  0   \n",
       "3      Entire home/apt  4.499810        0.693147                270   \n",
       "4      Entire home/apt  4.394449        2.397895                  9   \n",
       "...                ...       ...             ...                ...   \n",
       "48890     Private room  4.262680        1.098612                  0   \n",
       "48891     Private room  3.713572        1.609438                  0   \n",
       "48892  Entire home/apt  4.753590        2.397895                  0   \n",
       "48893      Shared room  4.025352        0.693147                  0   \n",
       "48894     Private room  4.510860        2.079442                  0   \n",
       "\n",
       "       last_review  reviews_per_month  calculated_host_listings_count  \\\n",
       "0             2762               0.21                               6   \n",
       "1             2976               0.38                               2   \n",
       "2                0               0.00                               1   \n",
       "3             3021               4.64                               1   \n",
       "4             2793               0.10                               1   \n",
       "...            ...                ...                             ...   \n",
       "48890            0               0.00                               2   \n",
       "48891            0               0.00                               2   \n",
       "48892            0               0.00                               1   \n",
       "48893            0               0.00                               6   \n",
       "48894            0               0.00                               1   \n",
       "\n",
       "       availability_365  no_reviews  all_year_avail  low_avail  \n",
       "0                   365       False            True      False  \n",
       "1                   355       False            True      False  \n",
       "2                   365        True            True      False  \n",
       "3                   194       False           False      False  \n",
       "4                     0       False           False       True  \n",
       "...                 ...         ...             ...        ...  \n",
       "48890                 9        True           False       True  \n",
       "48891                36        True           False      False  \n",
       "48892                27        True           False      False  \n",
       "48893                 2        True           False       True  \n",
       "48894                23        True           False      False  \n",
       "\n",
       "[48784 rows x 15 columns]"
      ]
     },
     "execution_count": 56,
     "metadata": {},
     "output_type": "execute_result"
    }
   ],
   "source": [
    "df"
   ]
  },
  {
   "cell_type": "markdown",
   "id": "f0e427fc-6a33-4139-b38b-3e25c78dddde",
   "metadata": {},
   "source": [
    "## 3 CatBoost"
   ]
  },
  {
   "cell_type": "markdown",
   "id": "6f255683-1a3f-45a7-831b-6a22e61be3b0",
   "metadata": {},
   "source": [
    "Creating subsets for catboost"
   ]
  },
  {
   "cell_type": "code",
   "execution_count": 57,
   "id": "fdbc0593-fc09-41b3-ae66-5f8088e08601",
   "metadata": {},
   "outputs": [],
   "source": [
    "X_ct, y_ct = df.drop(columns='price', axis=1), df.price\n"
   ]
  },
  {
   "cell_type": "markdown",
   "id": "b7a30010-2308-4af5-b5eb-dddc9fd61976",
   "metadata": {},
   "source": [
    "Getting columns where type is equal to object.\n",
    "We will use them by passing to catboost model, catboost will encode them for us"
   ]
  },
  {
   "cell_type": "code",
   "execution_count": 58,
   "id": "10981b78-a7b8-4cc1-ac1c-1953d5b58a2e",
   "metadata": {},
   "outputs": [
    {
     "data": {
      "text/plain": [
       "array([0, 1, 4], dtype=int64)"
      ]
     },
     "execution_count": 58,
     "metadata": {},
     "output_type": "execute_result"
    }
   ],
   "source": [
    "categ_feat_idx = np.where(X_ct.dtypes == 'object')[0]\n",
    "categ_feat_idx"
   ]
  },
  {
   "cell_type": "markdown",
   "id": "0309209b-475e-4fc8-8ea5-e9ce3770bc83",
   "metadata": {
    "tags": []
   },
   "source": [
    "Train test split for model validation"
   ]
  },
  {
   "cell_type": "code",
   "execution_count": 60,
   "id": "7c449d6c-722a-41a0-833e-b615e30770a0",
   "metadata": {},
   "outputs": [],
   "source": [
    "X_train_ct, X_test_ct, y_train_ct, y_test_ct = train_test_split(X_ct, y_ct, test_size=.3, shuffle=True, random_state=RANDOM_STATE) "
   ]
  },
  {
   "cell_type": "code",
   "execution_count": 61,
   "id": "691c602d-dfaf-48c7-ac6f-1d4e08767625",
   "metadata": {},
   "outputs": [],
   "source": [
    "def ct_reg():\n",
    "    return CatBoostRegressor(random_seed=RANDOM_STATE, silent=True,cat_features=categ_feat_idx)"
   ]
  },
  {
   "cell_type": "code",
   "execution_count": 62,
   "id": "b3aeb7f7-7c5a-4582-a9bf-7fec6202daff",
   "metadata": {},
   "outputs": [],
   "source": [
    "ctb = ct_reg()"
   ]
  },
  {
   "cell_type": "code",
   "execution_count": 63,
   "id": "2745f7d4-c116-4206-a231-fcef573298ec",
   "metadata": {},
   "outputs": [
    {
     "name": "stdout",
     "output_type": "stream",
     "text": [
      "Wall time: 37.9 s\n"
     ]
    },
    {
     "data": {
      "text/plain": [
       "<catboost.core.CatBoostRegressor at 0x14284feb2b0>"
      ]
     },
     "execution_count": 63,
     "metadata": {},
     "output_type": "execute_result"
    }
   ],
   "source": [
    "%%time\n",
    "ctb.fit(X_train_ct, y_train_ct)"
   ]
  },
  {
   "cell_type": "markdown",
   "id": "ae59a9c4-5857-4578-972f-5fec937dabfb",
   "metadata": {},
   "source": [
    "Cross validation\n",
    "\n",
    "Model score with nMSE and kFold with 5 folds"
   ]
  },
  {
   "cell_type": "code",
   "execution_count": 64,
   "id": "1bb1d260-7d8f-472e-8893-781ff8debd61",
   "metadata": {},
   "outputs": [],
   "source": [
    "n_folds =5\n",
    "numerical_features =  X_ct.select_dtypes(exclude=['object'])\n",
    "def rmse_cv(model):\n",
    "    kf = KFold(n_folds, shuffle=True, random_state = 91).get_n_splits(numerical_features)\n",
    "    return cross_val_score(model, X_train_ct, y_train_ct, scoring='neg_mean_squared_error', cv=kf)"
   ]
  },
  {
   "cell_type": "code",
   "execution_count": 65,
   "id": "84885e26-6ff5-4373-9e7d-80f880ca2b29",
   "metadata": {},
   "outputs": [],
   "source": [
    "cv_res = rmse_cv(ctb)"
   ]
  },
  {
   "cell_type": "code",
   "execution_count": 66,
   "id": "af6923e5-3132-4140-87ad-acf2fa330562",
   "metadata": {},
   "outputs": [
    {
     "name": "stdout",
     "output_type": "stream",
     "text": [
      "Catboost without tunning: 0.17085 +/- 0.003561\n"
     ]
    }
   ],
   "source": [
    "print('{}: {:.5f} +/- {:5f}'.format('Catboost without tunning', -cv_res.mean(), cv_res.std()))"
   ]
  },
  {
   "cell_type": "markdown",
   "id": "6d940bc2-fbeb-49ee-8571-c6a20a06e674",
   "metadata": {},
   "source": [
    "### 3.1 Catboost tunning"
   ]
  },
  {
   "cell_type": "code",
   "execution_count": 93,
   "id": "114a6f00-fe99-47f9-acc5-6699b6e5f5ac",
   "metadata": {},
   "outputs": [],
   "source": [
    "param_distributions = {\n",
    "    'iterations': [100, 150, 200, 250],  \n",
    "    'learning_rate': [0.01,0.03,0.05, 0.1, 0.15, 0.2, 0.25, 0.28, 0.3],\n",
    "    'max_depth': range(3,11),\n",
    "    'l2_leaf_reg': scipy.stats.reciprocal(a=1e-2, b=1e1),# Samples *exponents* uniformly between a and b\n",
    "    'od_type': ['Iter'],\n",
    "    'od_wait': range(5,101,10)\n",
    "    \n",
    "}"
   ]
  },
  {
   "cell_type": "code",
   "execution_count": 94,
   "id": "c2a55bf4-be5f-4542-ae86-93b9ab3f31f2",
   "metadata": {
    "tags": []
   },
   "outputs": [],
   "source": [
    "\n",
    "def rand_cv(params, cat_ind):\n",
    "    \"\"\"\n",
    "    creating Catboost RandomizedSearchCV with params and returns best regressor\n",
    "    \"\"\"\n",
    "    clf = CatBoostRegressor(random_seed=17, silent=True, cat_features=cat_ind)\n",
    "    return RandomizedSearchCV(clf, param_distributions=params, n_iter=10, n_jobs=-1,\n",
    "                              scoring='neg_mean_squared_error', cv=KFold(n_splits=5, shuffle=True, random_state=RANDOM_STATE),verbose=1)"
   ]
  },
  {
   "cell_type": "code",
   "execution_count": 95,
   "id": "2d7f6315-6db0-494e-b155-61a0c0a68a5c",
   "metadata": {},
   "outputs": [],
   "source": [
    "ctb_cv = rand_cv(param_distributions, categ_feat_idx)"
   ]
  },
  {
   "cell_type": "code",
   "execution_count": 96,
   "id": "a443ccdb-e418-4900-9b4a-c03ee4347b4c",
   "metadata": {},
   "outputs": [
    {
     "name": "stdout",
     "output_type": "stream",
     "text": [
      "Fitting 5 folds for each of 10 candidates, totalling 50 fits\n",
      "Wall time: 2min 18s\n"
     ]
    },
    {
     "data": {
      "text/plain": [
       "RandomizedSearchCV(cv=KFold(n_splits=5, random_state=17, shuffle=True),\n",
       "                   estimator=<catboost.core.CatBoostRegressor object at 0x000001428B934C10>,\n",
       "                   n_jobs=-1,\n",
       "                   param_distributions={'iterations': [100, 150, 200, 250],\n",
       "                                        'l2_leaf_reg': <scipy.stats._distn_infrastructure.rv_frozen object at 0x000001429423FF40>,\n",
       "                                        'learning_rate': [0.01, 0.03, 0.05, 0.1,\n",
       "                                                          0.15, 0.2, 0.25, 0.28,\n",
       "                                                          0.3],\n",
       "                                        'max_depth': range(3, 11),\n",
       "                                        'od_type': ['Iter'],\n",
       "                                        'od_wait': range(5, 101, 10)},\n",
       "                   scoring='neg_mean_squared_error', verbose=1)"
      ]
     },
     "execution_count": 96,
     "metadata": {},
     "output_type": "execute_result"
    }
   ],
   "source": [
    "%%time\n",
    "ctb_cv.fit(X_train_ct, y_train_ct)"
   ]
  },
  {
   "cell_type": "code",
   "execution_count": 97,
   "id": "f289856b-31fb-42e7-8811-2065c25a8627",
   "metadata": {},
   "outputs": [
    {
     "name": "stdout",
     "output_type": "stream",
     "text": [
      "Catboost with tunning: 0.17259\n"
     ]
    }
   ],
   "source": [
    "print('{}: {:.5f}'.format('Catboost with tunning', -ctb_cv.best_score_))"
   ]
  },
  {
   "cell_type": "code",
   "execution_count": 98,
   "id": "3fcb1921-0aff-44fb-8c5d-bac9b5f26893",
   "metadata": {},
   "outputs": [
    {
     "name": "stdout",
     "output_type": "stream",
     "text": [
      "Best params : {'iterations': 250, 'l2_leaf_reg': 0.36711560371691443, 'learning_rate': 0.25, 'max_depth': 6, 'od_type': 'Iter', 'od_wait': 5}\n"
     ]
    }
   ],
   "source": [
    "print(f\"Best params : {ctb_cv.best_params_}\")"
   ]
  },
  {
   "cell_type": "markdown",
   "id": "42ad9740-7f07-48b3-b196-773f0603dfd2",
   "metadata": {},
   "source": [
    "## ** Data frame for saving results and function  to generate them** "
   ]
  },
  {
   "cell_type": "code",
   "execution_count": 88,
   "id": "fcad4bd1-7e81-41aa-832c-576ccfc72b43",
   "metadata": {},
   "outputs": [],
   "source": [
    "res_tab = pd.DataFrame({\"Model\" : 'CatBoost untunned', 'Train error': cv_res.mean(), 'Test error': mean_squared_error(y_test_ct, ctb.predict(X_test_ct))},index=[0],)"
   ]
  },
  {
   "cell_type": "code",
   "execution_count": 89,
   "id": "765fad7f-25c1-4864-b900-57511d7fec16",
   "metadata": {},
   "outputs": [
    {
     "data": {
      "text/html": [
       "<div>\n",
       "<style scoped>\n",
       "    .dataframe tbody tr th:only-of-type {\n",
       "        vertical-align: middle;\n",
       "    }\n",
       "\n",
       "    .dataframe tbody tr th {\n",
       "        vertical-align: top;\n",
       "    }\n",
       "\n",
       "    .dataframe thead th {\n",
       "        text-align: right;\n",
       "    }\n",
       "</style>\n",
       "<table border=\"1\" class=\"dataframe\">\n",
       "  <thead>\n",
       "    <tr style=\"text-align: right;\">\n",
       "      <th></th>\n",
       "      <th>Model</th>\n",
       "      <th>Train error</th>\n",
       "      <th>Test error</th>\n",
       "    </tr>\n",
       "  </thead>\n",
       "  <tbody>\n",
       "    <tr>\n",
       "      <th>0</th>\n",
       "      <td>CatBoost untunned</td>\n",
       "      <td>-0.170855</td>\n",
       "      <td>0.170899</td>\n",
       "    </tr>\n",
       "  </tbody>\n",
       "</table>\n",
       "</div>"
      ],
      "text/plain": [
       "               Model  Train error  Test error\n",
       "0  CatBoost untunned    -0.170855    0.170899"
      ]
     },
     "execution_count": 89,
     "metadata": {},
     "output_type": "execute_result"
    }
   ],
   "source": [
    "res_tab"
   ]
  },
  {
   "cell_type": "code",
   "execution_count": 90,
   "id": "a49e6e33-314b-4b6a-a557-596d15a8e00f",
   "metadata": {},
   "outputs": [],
   "source": [
    "def append_res(clf, X_train, y_train, X_test, y_test, name):\n",
    "    pred_ctb_train = clf.predict(X_train)\n",
    "    error_train = mean_squared_error(y_train, pred_ctb_train)\n",
    "    pred_ctb_test = clf.predict(X_test)\n",
    "    error_test = mean_squared_error(y_test, pred_ctb_test)\n",
    "    return res_tab.append({\"Model\" : name, 'Train error': error_train, 'Test error': error_test}, ignore_index=True)"
   ]
  },
  {
   "cell_type": "code",
   "execution_count": 99,
   "id": "bcb69ade-ebba-4e70-ba54-a014fa10b236",
   "metadata": {},
   "outputs": [],
   "source": [
    "res_tab = append_res(ctb_cv, X_train_ct, y_train_ct, X_test_ct, y_test_ct, 'CatBoost Tunned')"
   ]
  },
  {
   "cell_type": "code",
   "execution_count": 102,
   "id": "e686e237-5909-4725-9e33-598903f82f14",
   "metadata": {},
   "outputs": [
    {
     "data": {
      "text/html": [
       "<div>\n",
       "<style scoped>\n",
       "    .dataframe tbody tr th:only-of-type {\n",
       "        vertical-align: middle;\n",
       "    }\n",
       "\n",
       "    .dataframe tbody tr th {\n",
       "        vertical-align: top;\n",
       "    }\n",
       "\n",
       "    .dataframe thead th {\n",
       "        text-align: right;\n",
       "    }\n",
       "</style>\n",
       "<table border=\"1\" class=\"dataframe\">\n",
       "  <thead>\n",
       "    <tr style=\"text-align: right;\">\n",
       "      <th></th>\n",
       "      <th>Model</th>\n",
       "      <th>Train error</th>\n",
       "      <th>Test error</th>\n",
       "    </tr>\n",
       "  </thead>\n",
       "  <tbody>\n",
       "    <tr>\n",
       "      <th>0</th>\n",
       "      <td>CatBoost untunned</td>\n",
       "      <td>-0.170855</td>\n",
       "      <td>0.170899</td>\n",
       "    </tr>\n",
       "    <tr>\n",
       "      <th>2</th>\n",
       "      <td>CatBoost Tunned</td>\n",
       "      <td>0.147053</td>\n",
       "      <td>0.172898</td>\n",
       "    </tr>\n",
       "  </tbody>\n",
       "</table>\n",
       "</div>"
      ],
      "text/plain": [
       "               Model  Train error  Test error\n",
       "0  CatBoost untunned    -0.170855    0.170899\n",
       "2    CatBoost Tunned     0.147053    0.172898"
      ]
     },
     "execution_count": 102,
     "metadata": {},
     "output_type": "execute_result"
    }
   ],
   "source": [
    "res_tab"
   ]
  },
  {
   "cell_type": "markdown",
   "id": "0f2afc80-93d6-4786-bd26-896800749932",
   "metadata": {},
   "source": [
    "**Note** I've tried a lot of params, but tunned model still overfitting"
   ]
  },
  {
   "cell_type": "markdown",
   "id": "73509659-1003-4c45-83d0-fda6f9fbd872",
   "metadata": {},
   "source": [
    "### 4.Light gbm"
   ]
  },
  {
   "cell_type": "markdown",
   "id": "002c9bc1-571b-47e9-9397-f1b388328b9d",
   "metadata": {},
   "source": [
    "### 4.1 Preprocessing data"
   ]
  },
  {
   "cell_type": "code",
   "execution_count": 104,
   "id": "c052a53e-e8d9-464e-a0e7-006e4b3ae3b4",
   "metadata": {},
   "outputs": [
    {
     "data": {
      "text/html": [
       "<div>\n",
       "<style scoped>\n",
       "    .dataframe tbody tr th:only-of-type {\n",
       "        vertical-align: middle;\n",
       "    }\n",
       "\n",
       "    .dataframe tbody tr th {\n",
       "        vertical-align: top;\n",
       "    }\n",
       "\n",
       "    .dataframe thead th {\n",
       "        text-align: right;\n",
       "    }\n",
       "</style>\n",
       "<table border=\"1\" class=\"dataframe\">\n",
       "  <thead>\n",
       "    <tr style=\"text-align: right;\">\n",
       "      <th></th>\n",
       "      <th>neighbourhood_group</th>\n",
       "      <th>neighbourhood</th>\n",
       "      <th>latitude</th>\n",
       "      <th>longitude</th>\n",
       "      <th>room_type</th>\n",
       "      <th>price</th>\n",
       "      <th>minimum_nights</th>\n",
       "      <th>number_of_reviews</th>\n",
       "      <th>last_review</th>\n",
       "      <th>reviews_per_month</th>\n",
       "      <th>calculated_host_listings_count</th>\n",
       "      <th>availability_365</th>\n",
       "      <th>no_reviews</th>\n",
       "      <th>all_year_avail</th>\n",
       "      <th>low_avail</th>\n",
       "    </tr>\n",
       "  </thead>\n",
       "  <tbody>\n",
       "    <tr>\n",
       "      <th>0</th>\n",
       "      <td>Brooklyn</td>\n",
       "      <td>Kensington</td>\n",
       "      <td>40.64749</td>\n",
       "      <td>-73.97237</td>\n",
       "      <td>Private room</td>\n",
       "      <td>5.010635</td>\n",
       "      <td>0.693147</td>\n",
       "      <td>9</td>\n",
       "      <td>2762</td>\n",
       "      <td>0.21</td>\n",
       "      <td>6</td>\n",
       "      <td>365</td>\n",
       "      <td>False</td>\n",
       "      <td>True</td>\n",
       "      <td>False</td>\n",
       "    </tr>\n",
       "    <tr>\n",
       "      <th>1</th>\n",
       "      <td>Manhattan</td>\n",
       "      <td>Midtown</td>\n",
       "      <td>40.75362</td>\n",
       "      <td>-73.98377</td>\n",
       "      <td>Entire home/apt</td>\n",
       "      <td>5.420535</td>\n",
       "      <td>0.693147</td>\n",
       "      <td>45</td>\n",
       "      <td>2976</td>\n",
       "      <td>0.38</td>\n",
       "      <td>2</td>\n",
       "      <td>355</td>\n",
       "      <td>False</td>\n",
       "      <td>True</td>\n",
       "      <td>False</td>\n",
       "    </tr>\n",
       "    <tr>\n",
       "      <th>2</th>\n",
       "      <td>Manhattan</td>\n",
       "      <td>Harlem</td>\n",
       "      <td>40.80902</td>\n",
       "      <td>-73.94190</td>\n",
       "      <td>Private room</td>\n",
       "      <td>5.017280</td>\n",
       "      <td>1.386294</td>\n",
       "      <td>0</td>\n",
       "      <td>0</td>\n",
       "      <td>0.00</td>\n",
       "      <td>1</td>\n",
       "      <td>365</td>\n",
       "      <td>True</td>\n",
       "      <td>True</td>\n",
       "      <td>False</td>\n",
       "    </tr>\n",
       "    <tr>\n",
       "      <th>3</th>\n",
       "      <td>Brooklyn</td>\n",
       "      <td>Clinton Hill</td>\n",
       "      <td>40.68514</td>\n",
       "      <td>-73.95976</td>\n",
       "      <td>Entire home/apt</td>\n",
       "      <td>4.499810</td>\n",
       "      <td>0.693147</td>\n",
       "      <td>270</td>\n",
       "      <td>3021</td>\n",
       "      <td>4.64</td>\n",
       "      <td>1</td>\n",
       "      <td>194</td>\n",
       "      <td>False</td>\n",
       "      <td>False</td>\n",
       "      <td>False</td>\n",
       "    </tr>\n",
       "    <tr>\n",
       "      <th>4</th>\n",
       "      <td>Manhattan</td>\n",
       "      <td>East Harlem</td>\n",
       "      <td>40.79851</td>\n",
       "      <td>-73.94399</td>\n",
       "      <td>Entire home/apt</td>\n",
       "      <td>4.394449</td>\n",
       "      <td>2.397895</td>\n",
       "      <td>9</td>\n",
       "      <td>2793</td>\n",
       "      <td>0.10</td>\n",
       "      <td>1</td>\n",
       "      <td>0</td>\n",
       "      <td>False</td>\n",
       "      <td>False</td>\n",
       "      <td>True</td>\n",
       "    </tr>\n",
       "  </tbody>\n",
       "</table>\n",
       "</div>"
      ],
      "text/plain": [
       "  neighbourhood_group neighbourhood  latitude  longitude        room_type  \\\n",
       "0            Brooklyn    Kensington  40.64749  -73.97237     Private room   \n",
       "1           Manhattan       Midtown  40.75362  -73.98377  Entire home/apt   \n",
       "2           Manhattan        Harlem  40.80902  -73.94190     Private room   \n",
       "3            Brooklyn  Clinton Hill  40.68514  -73.95976  Entire home/apt   \n",
       "4           Manhattan   East Harlem  40.79851  -73.94399  Entire home/apt   \n",
       "\n",
       "      price  minimum_nights  number_of_reviews  last_review  \\\n",
       "0  5.010635        0.693147                  9         2762   \n",
       "1  5.420535        0.693147                 45         2976   \n",
       "2  5.017280        1.386294                  0            0   \n",
       "3  4.499810        0.693147                270         3021   \n",
       "4  4.394449        2.397895                  9         2793   \n",
       "\n",
       "   reviews_per_month  calculated_host_listings_count  availability_365  \\\n",
       "0               0.21                               6               365   \n",
       "1               0.38                               2               355   \n",
       "2               0.00                               1               365   \n",
       "3               4.64                               1               194   \n",
       "4               0.10                               1                 0   \n",
       "\n",
       "   no_reviews  all_year_avail  low_avail  \n",
       "0       False            True      False  \n",
       "1       False            True      False  \n",
       "2        True            True      False  \n",
       "3       False           False      False  \n",
       "4       False           False       True  "
      ]
     },
     "execution_count": 104,
     "metadata": {},
     "output_type": "execute_result"
    }
   ],
   "source": [
    "df.head()"
   ]
  },
  {
   "cell_type": "code",
   "execution_count": 135,
   "id": "4b46e357-9af2-470e-a678-e732209d2d9e",
   "metadata": {},
   "outputs": [],
   "source": [
    "X = df.drop('price', axis=1)\n",
    "y=df.price"
   ]
  },
  {
   "cell_type": "markdown",
   "id": "4a0adf2a-272d-44af-96bc-107ce7e2d1dd",
   "metadata": {},
   "source": [
    "#### 4.2 Encoding categorical variables"
   ]
  },
  {
   "cell_type": "code",
   "execution_count": 136,
   "id": "e1f92568-f415-4b7f-bb0c-d16c1ea2338e",
   "metadata": {},
   "outputs": [],
   "source": [
    "categorical_col = [column for column in df.columns if df[column].dtype == 'object']"
   ]
  },
  {
   "cell_type": "code",
   "execution_count": 137,
   "id": "c4386e87-ec20-4f21-80c7-b46738debc18",
   "metadata": {},
   "outputs": [
    {
     "name": "stdout",
     "output_type": "stream",
     "text": [
      "Feature neighbourhood_group has 5 unique variables\n",
      "Feature neighbourhood has 221 unique variables\n",
      "Feature room_type has 3 unique variables\n"
     ]
    }
   ],
   "source": [
    "for feat in categorical_col:\n",
    "    print(f'Feature {feat} has {df[feat].nunique()} unique variables')"
   ]
  },
  {
   "cell_type": "markdown",
   "id": "9e958594-d71c-4d02-9abb-e508a038d7be",
   "metadata": {},
   "source": [
    "We will use LabelEncoder to encode **neighbourhood_group** and **room_type**"
   ]
  },
  {
   "cell_type": "code",
   "execution_count": 138,
   "id": "32784aa5-10fe-4c33-ae72-6cd502bc705c",
   "metadata": {},
   "outputs": [
    {
     "data": {
      "text/html": [
       "<div>\n",
       "<style scoped>\n",
       "    .dataframe tbody tr th:only-of-type {\n",
       "        vertical-align: middle;\n",
       "    }\n",
       "\n",
       "    .dataframe tbody tr th {\n",
       "        vertical-align: top;\n",
       "    }\n",
       "\n",
       "    .dataframe thead th {\n",
       "        text-align: right;\n",
       "    }\n",
       "</style>\n",
       "<table border=\"1\" class=\"dataframe\">\n",
       "  <thead>\n",
       "    <tr style=\"text-align: right;\">\n",
       "      <th></th>\n",
       "      <th>neighbourhood_group</th>\n",
       "      <th>neighbourhood</th>\n",
       "      <th>latitude</th>\n",
       "      <th>longitude</th>\n",
       "      <th>room_type</th>\n",
       "      <th>minimum_nights</th>\n",
       "      <th>number_of_reviews</th>\n",
       "      <th>last_review</th>\n",
       "      <th>reviews_per_month</th>\n",
       "      <th>calculated_host_listings_count</th>\n",
       "      <th>availability_365</th>\n",
       "      <th>no_reviews</th>\n",
       "      <th>all_year_avail</th>\n",
       "      <th>low_avail</th>\n",
       "    </tr>\n",
       "  </thead>\n",
       "  <tbody>\n",
       "    <tr>\n",
       "      <th>0</th>\n",
       "      <td>1</td>\n",
       "      <td>Kensington</td>\n",
       "      <td>40.64749</td>\n",
       "      <td>-73.97237</td>\n",
       "      <td>1</td>\n",
       "      <td>0.693147</td>\n",
       "      <td>9</td>\n",
       "      <td>2762</td>\n",
       "      <td>0.21</td>\n",
       "      <td>6</td>\n",
       "      <td>365</td>\n",
       "      <td>False</td>\n",
       "      <td>True</td>\n",
       "      <td>False</td>\n",
       "    </tr>\n",
       "    <tr>\n",
       "      <th>1</th>\n",
       "      <td>2</td>\n",
       "      <td>Midtown</td>\n",
       "      <td>40.75362</td>\n",
       "      <td>-73.98377</td>\n",
       "      <td>0</td>\n",
       "      <td>0.693147</td>\n",
       "      <td>45</td>\n",
       "      <td>2976</td>\n",
       "      <td>0.38</td>\n",
       "      <td>2</td>\n",
       "      <td>355</td>\n",
       "      <td>False</td>\n",
       "      <td>True</td>\n",
       "      <td>False</td>\n",
       "    </tr>\n",
       "    <tr>\n",
       "      <th>2</th>\n",
       "      <td>2</td>\n",
       "      <td>Harlem</td>\n",
       "      <td>40.80902</td>\n",
       "      <td>-73.94190</td>\n",
       "      <td>1</td>\n",
       "      <td>1.386294</td>\n",
       "      <td>0</td>\n",
       "      <td>0</td>\n",
       "      <td>0.00</td>\n",
       "      <td>1</td>\n",
       "      <td>365</td>\n",
       "      <td>True</td>\n",
       "      <td>True</td>\n",
       "      <td>False</td>\n",
       "    </tr>\n",
       "    <tr>\n",
       "      <th>3</th>\n",
       "      <td>1</td>\n",
       "      <td>Clinton Hill</td>\n",
       "      <td>40.68514</td>\n",
       "      <td>-73.95976</td>\n",
       "      <td>0</td>\n",
       "      <td>0.693147</td>\n",
       "      <td>270</td>\n",
       "      <td>3021</td>\n",
       "      <td>4.64</td>\n",
       "      <td>1</td>\n",
       "      <td>194</td>\n",
       "      <td>False</td>\n",
       "      <td>False</td>\n",
       "      <td>False</td>\n",
       "    </tr>\n",
       "    <tr>\n",
       "      <th>4</th>\n",
       "      <td>2</td>\n",
       "      <td>East Harlem</td>\n",
       "      <td>40.79851</td>\n",
       "      <td>-73.94399</td>\n",
       "      <td>0</td>\n",
       "      <td>2.397895</td>\n",
       "      <td>9</td>\n",
       "      <td>2793</td>\n",
       "      <td>0.10</td>\n",
       "      <td>1</td>\n",
       "      <td>0</td>\n",
       "      <td>False</td>\n",
       "      <td>False</td>\n",
       "      <td>True</td>\n",
       "    </tr>\n",
       "    <tr>\n",
       "      <th>...</th>\n",
       "      <td>...</td>\n",
       "      <td>...</td>\n",
       "      <td>...</td>\n",
       "      <td>...</td>\n",
       "      <td>...</td>\n",
       "      <td>...</td>\n",
       "      <td>...</td>\n",
       "      <td>...</td>\n",
       "      <td>...</td>\n",
       "      <td>...</td>\n",
       "      <td>...</td>\n",
       "      <td>...</td>\n",
       "      <td>...</td>\n",
       "      <td>...</td>\n",
       "    </tr>\n",
       "    <tr>\n",
       "      <th>48890</th>\n",
       "      <td>1</td>\n",
       "      <td>Bedford-Stuyvesant</td>\n",
       "      <td>40.67853</td>\n",
       "      <td>-73.94995</td>\n",
       "      <td>1</td>\n",
       "      <td>1.098612</td>\n",
       "      <td>0</td>\n",
       "      <td>0</td>\n",
       "      <td>0.00</td>\n",
       "      <td>2</td>\n",
       "      <td>9</td>\n",
       "      <td>True</td>\n",
       "      <td>False</td>\n",
       "      <td>True</td>\n",
       "    </tr>\n",
       "    <tr>\n",
       "      <th>48891</th>\n",
       "      <td>1</td>\n",
       "      <td>Bushwick</td>\n",
       "      <td>40.70184</td>\n",
       "      <td>-73.93317</td>\n",
       "      <td>1</td>\n",
       "      <td>1.609438</td>\n",
       "      <td>0</td>\n",
       "      <td>0</td>\n",
       "      <td>0.00</td>\n",
       "      <td>2</td>\n",
       "      <td>36</td>\n",
       "      <td>True</td>\n",
       "      <td>False</td>\n",
       "      <td>False</td>\n",
       "    </tr>\n",
       "    <tr>\n",
       "      <th>48892</th>\n",
       "      <td>2</td>\n",
       "      <td>Harlem</td>\n",
       "      <td>40.81475</td>\n",
       "      <td>-73.94867</td>\n",
       "      <td>0</td>\n",
       "      <td>2.397895</td>\n",
       "      <td>0</td>\n",
       "      <td>0</td>\n",
       "      <td>0.00</td>\n",
       "      <td>1</td>\n",
       "      <td>27</td>\n",
       "      <td>True</td>\n",
       "      <td>False</td>\n",
       "      <td>False</td>\n",
       "    </tr>\n",
       "    <tr>\n",
       "      <th>48893</th>\n",
       "      <td>2</td>\n",
       "      <td>Hell's Kitchen</td>\n",
       "      <td>40.75751</td>\n",
       "      <td>-73.99112</td>\n",
       "      <td>2</td>\n",
       "      <td>0.693147</td>\n",
       "      <td>0</td>\n",
       "      <td>0</td>\n",
       "      <td>0.00</td>\n",
       "      <td>6</td>\n",
       "      <td>2</td>\n",
       "      <td>True</td>\n",
       "      <td>False</td>\n",
       "      <td>True</td>\n",
       "    </tr>\n",
       "    <tr>\n",
       "      <th>48894</th>\n",
       "      <td>2</td>\n",
       "      <td>Hell's Kitchen</td>\n",
       "      <td>40.76404</td>\n",
       "      <td>-73.98933</td>\n",
       "      <td>1</td>\n",
       "      <td>2.079442</td>\n",
       "      <td>0</td>\n",
       "      <td>0</td>\n",
       "      <td>0.00</td>\n",
       "      <td>1</td>\n",
       "      <td>23</td>\n",
       "      <td>True</td>\n",
       "      <td>False</td>\n",
       "      <td>False</td>\n",
       "    </tr>\n",
       "  </tbody>\n",
       "</table>\n",
       "<p>48784 rows × 14 columns</p>\n",
       "</div>"
      ],
      "text/plain": [
       "       neighbourhood_group       neighbourhood  latitude  longitude  \\\n",
       "0                        1          Kensington  40.64749  -73.97237   \n",
       "1                        2             Midtown  40.75362  -73.98377   \n",
       "2                        2              Harlem  40.80902  -73.94190   \n",
       "3                        1        Clinton Hill  40.68514  -73.95976   \n",
       "4                        2         East Harlem  40.79851  -73.94399   \n",
       "...                    ...                 ...       ...        ...   \n",
       "48890                    1  Bedford-Stuyvesant  40.67853  -73.94995   \n",
       "48891                    1            Bushwick  40.70184  -73.93317   \n",
       "48892                    2              Harlem  40.81475  -73.94867   \n",
       "48893                    2      Hell's Kitchen  40.75751  -73.99112   \n",
       "48894                    2      Hell's Kitchen  40.76404  -73.98933   \n",
       "\n",
       "       room_type  minimum_nights  number_of_reviews  last_review  \\\n",
       "0              1        0.693147                  9         2762   \n",
       "1              0        0.693147                 45         2976   \n",
       "2              1        1.386294                  0            0   \n",
       "3              0        0.693147                270         3021   \n",
       "4              0        2.397895                  9         2793   \n",
       "...          ...             ...                ...          ...   \n",
       "48890          1        1.098612                  0            0   \n",
       "48891          1        1.609438                  0            0   \n",
       "48892          0        2.397895                  0            0   \n",
       "48893          2        0.693147                  0            0   \n",
       "48894          1        2.079442                  0            0   \n",
       "\n",
       "       reviews_per_month  calculated_host_listings_count  availability_365  \\\n",
       "0                   0.21                               6               365   \n",
       "1                   0.38                               2               355   \n",
       "2                   0.00                               1               365   \n",
       "3                   4.64                               1               194   \n",
       "4                   0.10                               1                 0   \n",
       "...                  ...                             ...               ...   \n",
       "48890               0.00                               2                 9   \n",
       "48891               0.00                               2                36   \n",
       "48892               0.00                               1                27   \n",
       "48893               0.00                               6                 2   \n",
       "48894               0.00                               1                23   \n",
       "\n",
       "       no_reviews  all_year_avail  low_avail  \n",
       "0           False            True      False  \n",
       "1           False            True      False  \n",
       "2            True            True      False  \n",
       "3           False           False      False  \n",
       "4           False           False       True  \n",
       "...           ...             ...        ...  \n",
       "48890        True           False       True  \n",
       "48891        True           False      False  \n",
       "48892        True           False      False  \n",
       "48893        True           False       True  \n",
       "48894        True           False      False  \n",
       "\n",
       "[48784 rows x 14 columns]"
      ]
     },
     "execution_count": 138,
     "metadata": {},
     "output_type": "execute_result"
    }
   ],
   "source": [
    "le = LabelEncoder()\n",
    "X[categorical_col[0]] = le.fit_transform(X[categorical_col[0]])\n",
    "X[categorical_col[2]] = le.fit_transform(X[categorical_col[2]])\n",
    "X"
   ]
  },
  {
   "cell_type": "code",
   "execution_count": 139,
   "id": "efd22e49-adc9-4062-9821-e5ccd4793d3f",
   "metadata": {},
   "outputs": [],
   "source": [
    "X = X.rename(columns = lambda x:re.sub('[^A-Za-z0-9_]+', '', x))"
   ]
  },
  {
   "cell_type": "code",
   "execution_count": 140,
   "id": "f8dbbd6e-3b42-44be-b7d6-c44d639fa697",
   "metadata": {},
   "outputs": [
    {
     "data": {
      "text/html": [
       "<div>\n",
       "<style scoped>\n",
       "    .dataframe tbody tr th:only-of-type {\n",
       "        vertical-align: middle;\n",
       "    }\n",
       "\n",
       "    .dataframe tbody tr th {\n",
       "        vertical-align: top;\n",
       "    }\n",
       "\n",
       "    .dataframe thead th {\n",
       "        text-align: right;\n",
       "    }\n",
       "</style>\n",
       "<table border=\"1\" class=\"dataframe\">\n",
       "  <thead>\n",
       "    <tr style=\"text-align: right;\">\n",
       "      <th></th>\n",
       "      <th>neighbourhood_group</th>\n",
       "      <th>neighbourhood</th>\n",
       "      <th>latitude</th>\n",
       "      <th>longitude</th>\n",
       "      <th>room_type</th>\n",
       "      <th>minimum_nights</th>\n",
       "      <th>number_of_reviews</th>\n",
       "      <th>last_review</th>\n",
       "      <th>reviews_per_month</th>\n",
       "      <th>calculated_host_listings_count</th>\n",
       "      <th>availability_365</th>\n",
       "      <th>no_reviews</th>\n",
       "      <th>all_year_avail</th>\n",
       "      <th>low_avail</th>\n",
       "    </tr>\n",
       "  </thead>\n",
       "  <tbody>\n",
       "    <tr>\n",
       "      <th>0</th>\n",
       "      <td>1</td>\n",
       "      <td>Kensington</td>\n",
       "      <td>40.64749</td>\n",
       "      <td>-73.97237</td>\n",
       "      <td>1</td>\n",
       "      <td>0.693147</td>\n",
       "      <td>9</td>\n",
       "      <td>2762</td>\n",
       "      <td>0.21</td>\n",
       "      <td>6</td>\n",
       "      <td>365</td>\n",
       "      <td>0</td>\n",
       "      <td>1</td>\n",
       "      <td>0</td>\n",
       "    </tr>\n",
       "    <tr>\n",
       "      <th>1</th>\n",
       "      <td>2</td>\n",
       "      <td>Midtown</td>\n",
       "      <td>40.75362</td>\n",
       "      <td>-73.98377</td>\n",
       "      <td>0</td>\n",
       "      <td>0.693147</td>\n",
       "      <td>45</td>\n",
       "      <td>2976</td>\n",
       "      <td>0.38</td>\n",
       "      <td>2</td>\n",
       "      <td>355</td>\n",
       "      <td>0</td>\n",
       "      <td>1</td>\n",
       "      <td>0</td>\n",
       "    </tr>\n",
       "    <tr>\n",
       "      <th>2</th>\n",
       "      <td>2</td>\n",
       "      <td>Harlem</td>\n",
       "      <td>40.80902</td>\n",
       "      <td>-73.94190</td>\n",
       "      <td>1</td>\n",
       "      <td>1.386294</td>\n",
       "      <td>0</td>\n",
       "      <td>0</td>\n",
       "      <td>0.00</td>\n",
       "      <td>1</td>\n",
       "      <td>365</td>\n",
       "      <td>1</td>\n",
       "      <td>1</td>\n",
       "      <td>0</td>\n",
       "    </tr>\n",
       "    <tr>\n",
       "      <th>3</th>\n",
       "      <td>1</td>\n",
       "      <td>Clinton Hill</td>\n",
       "      <td>40.68514</td>\n",
       "      <td>-73.95976</td>\n",
       "      <td>0</td>\n",
       "      <td>0.693147</td>\n",
       "      <td>270</td>\n",
       "      <td>3021</td>\n",
       "      <td>4.64</td>\n",
       "      <td>1</td>\n",
       "      <td>194</td>\n",
       "      <td>0</td>\n",
       "      <td>0</td>\n",
       "      <td>0</td>\n",
       "    </tr>\n",
       "    <tr>\n",
       "      <th>4</th>\n",
       "      <td>2</td>\n",
       "      <td>East Harlem</td>\n",
       "      <td>40.79851</td>\n",
       "      <td>-73.94399</td>\n",
       "      <td>0</td>\n",
       "      <td>2.397895</td>\n",
       "      <td>9</td>\n",
       "      <td>2793</td>\n",
       "      <td>0.10</td>\n",
       "      <td>1</td>\n",
       "      <td>0</td>\n",
       "      <td>0</td>\n",
       "      <td>0</td>\n",
       "      <td>1</td>\n",
       "    </tr>\n",
       "    <tr>\n",
       "      <th>...</th>\n",
       "      <td>...</td>\n",
       "      <td>...</td>\n",
       "      <td>...</td>\n",
       "      <td>...</td>\n",
       "      <td>...</td>\n",
       "      <td>...</td>\n",
       "      <td>...</td>\n",
       "      <td>...</td>\n",
       "      <td>...</td>\n",
       "      <td>...</td>\n",
       "      <td>...</td>\n",
       "      <td>...</td>\n",
       "      <td>...</td>\n",
       "      <td>...</td>\n",
       "    </tr>\n",
       "    <tr>\n",
       "      <th>48890</th>\n",
       "      <td>1</td>\n",
       "      <td>Bedford-Stuyvesant</td>\n",
       "      <td>40.67853</td>\n",
       "      <td>-73.94995</td>\n",
       "      <td>1</td>\n",
       "      <td>1.098612</td>\n",
       "      <td>0</td>\n",
       "      <td>0</td>\n",
       "      <td>0.00</td>\n",
       "      <td>2</td>\n",
       "      <td>9</td>\n",
       "      <td>1</td>\n",
       "      <td>0</td>\n",
       "      <td>1</td>\n",
       "    </tr>\n",
       "    <tr>\n",
       "      <th>48891</th>\n",
       "      <td>1</td>\n",
       "      <td>Bushwick</td>\n",
       "      <td>40.70184</td>\n",
       "      <td>-73.93317</td>\n",
       "      <td>1</td>\n",
       "      <td>1.609438</td>\n",
       "      <td>0</td>\n",
       "      <td>0</td>\n",
       "      <td>0.00</td>\n",
       "      <td>2</td>\n",
       "      <td>36</td>\n",
       "      <td>1</td>\n",
       "      <td>0</td>\n",
       "      <td>0</td>\n",
       "    </tr>\n",
       "    <tr>\n",
       "      <th>48892</th>\n",
       "      <td>2</td>\n",
       "      <td>Harlem</td>\n",
       "      <td>40.81475</td>\n",
       "      <td>-73.94867</td>\n",
       "      <td>0</td>\n",
       "      <td>2.397895</td>\n",
       "      <td>0</td>\n",
       "      <td>0</td>\n",
       "      <td>0.00</td>\n",
       "      <td>1</td>\n",
       "      <td>27</td>\n",
       "      <td>1</td>\n",
       "      <td>0</td>\n",
       "      <td>0</td>\n",
       "    </tr>\n",
       "    <tr>\n",
       "      <th>48893</th>\n",
       "      <td>2</td>\n",
       "      <td>Hell's Kitchen</td>\n",
       "      <td>40.75751</td>\n",
       "      <td>-73.99112</td>\n",
       "      <td>2</td>\n",
       "      <td>0.693147</td>\n",
       "      <td>0</td>\n",
       "      <td>0</td>\n",
       "      <td>0.00</td>\n",
       "      <td>6</td>\n",
       "      <td>2</td>\n",
       "      <td>1</td>\n",
       "      <td>0</td>\n",
       "      <td>1</td>\n",
       "    </tr>\n",
       "    <tr>\n",
       "      <th>48894</th>\n",
       "      <td>2</td>\n",
       "      <td>Hell's Kitchen</td>\n",
       "      <td>40.76404</td>\n",
       "      <td>-73.98933</td>\n",
       "      <td>1</td>\n",
       "      <td>2.079442</td>\n",
       "      <td>0</td>\n",
       "      <td>0</td>\n",
       "      <td>0.00</td>\n",
       "      <td>1</td>\n",
       "      <td>23</td>\n",
       "      <td>1</td>\n",
       "      <td>0</td>\n",
       "      <td>0</td>\n",
       "    </tr>\n",
       "  </tbody>\n",
       "</table>\n",
       "<p>48784 rows × 14 columns</p>\n",
       "</div>"
      ],
      "text/plain": [
       "       neighbourhood_group       neighbourhood  latitude  longitude  \\\n",
       "0                        1          Kensington  40.64749  -73.97237   \n",
       "1                        2             Midtown  40.75362  -73.98377   \n",
       "2                        2              Harlem  40.80902  -73.94190   \n",
       "3                        1        Clinton Hill  40.68514  -73.95976   \n",
       "4                        2         East Harlem  40.79851  -73.94399   \n",
       "...                    ...                 ...       ...        ...   \n",
       "48890                    1  Bedford-Stuyvesant  40.67853  -73.94995   \n",
       "48891                    1            Bushwick  40.70184  -73.93317   \n",
       "48892                    2              Harlem  40.81475  -73.94867   \n",
       "48893                    2      Hell's Kitchen  40.75751  -73.99112   \n",
       "48894                    2      Hell's Kitchen  40.76404  -73.98933   \n",
       "\n",
       "       room_type  minimum_nights  number_of_reviews  last_review  \\\n",
       "0              1        0.693147                  9         2762   \n",
       "1              0        0.693147                 45         2976   \n",
       "2              1        1.386294                  0            0   \n",
       "3              0        0.693147                270         3021   \n",
       "4              0        2.397895                  9         2793   \n",
       "...          ...             ...                ...          ...   \n",
       "48890          1        1.098612                  0            0   \n",
       "48891          1        1.609438                  0            0   \n",
       "48892          0        2.397895                  0            0   \n",
       "48893          2        0.693147                  0            0   \n",
       "48894          1        2.079442                  0            0   \n",
       "\n",
       "       reviews_per_month  calculated_host_listings_count  availability_365  \\\n",
       "0                   0.21                               6               365   \n",
       "1                   0.38                               2               355   \n",
       "2                   0.00                               1               365   \n",
       "3                   4.64                               1               194   \n",
       "4                   0.10                               1                 0   \n",
       "...                  ...                             ...               ...   \n",
       "48890               0.00                               2                 9   \n",
       "48891               0.00                               2                36   \n",
       "48892               0.00                               1                27   \n",
       "48893               0.00                               6                 2   \n",
       "48894               0.00                               1                23   \n",
       "\n",
       "       no_reviews  all_year_avail  low_avail  \n",
       "0               0               1          0  \n",
       "1               0               1          0  \n",
       "2               1               1          0  \n",
       "3               0               0          0  \n",
       "4               0               0          1  \n",
       "...           ...             ...        ...  \n",
       "48890           1               0          1  \n",
       "48891           1               0          0  \n",
       "48892           1               0          0  \n",
       "48893           1               0          1  \n",
       "48894           1               0          0  \n",
       "\n",
       "[48784 rows x 14 columns]"
      ]
     },
     "execution_count": 140,
     "metadata": {},
     "output_type": "execute_result"
    }
   ],
   "source": [
    "X[['no_reviews', 'all_year_avail', 'low_avail']] = X[['no_reviews', 'all_year_avail', 'low_avail']].astype('int')\n",
    "X"
   ]
  },
  {
   "cell_type": "markdown",
   "id": "576a0bfd-1e27-47bf-8b1d-bca8ed325234",
   "metadata": {},
   "source": [
    "##### One-hot encoing for **neighbourhood** feature.\n",
    "I'm not sure if it's the best encoding technique to use here. But anyway we will use it here"
   ]
  },
  {
   "cell_type": "code",
   "execution_count": 141,
   "id": "6f3285db-bf4b-43f7-94bb-ddd8d2fff211",
   "metadata": {},
   "outputs": [],
   "source": [
    "X = pd.get_dummies(X)"
   ]
  },
  {
   "cell_type": "markdown",
   "id": "a7ea2604-6898-4755-b2e3-42469c293bb9",
   "metadata": {},
   "source": [
    "#### Train test split"
   ]
  },
  {
   "cell_type": "code",
   "execution_count": 142,
   "id": "c7aad9c4-6953-40c4-8b6e-c0b7ed29c3c4",
   "metadata": {},
   "outputs": [],
   "source": [
    "X_train, X_test, y_train, y_test = train_test_split(X, y, test_size=0.2, random_state=42)"
   ]
  },
  {
   "cell_type": "code",
   "execution_count": 143,
   "id": "da6f55a1-b591-421a-ad45-93d761e1e012",
   "metadata": {},
   "outputs": [
    {
     "name": "stdout",
     "output_type": "stream",
     "text": [
      "Dimensions of the training feature matrix: (39027, 234)\n",
      "Dimensions of the training target vector: (39027,)\n",
      "Dimensions of the test feature matrix: (9757, 234)\n",
      "Dimensions of the test target vector: (9757,)\n"
     ]
    }
   ],
   "source": [
    "print('Dimensions of the training feature matrix: {}'.format(X_train.shape))\n",
    "print('Dimensions of the training target vector: {}'.format(y_train.shape))\n",
    "print('Dimensions of the test feature matrix: {}'.format(X_test.shape))\n",
    "print('Dimensions of the test target vector: {}'.format(y_test.shape))"
   ]
  },
  {
   "cell_type": "markdown",
   "id": "4bccecc8-29b7-431d-87b7-a1d02ce68564",
   "metadata": {},
   "source": [
    "### 4.3 Scaling features"
   ]
  },
  {
   "cell_type": "code",
   "execution_count": 144,
   "id": "aa844dc8-a0ab-4757-a494-88cc72bed5f1",
   "metadata": {},
   "outputs": [],
   "source": [
    "scaler = RobustScaler()\n",
    "X_train = scaler.fit_transform(X_train)\n",
    "X_test = scaler.fit_transform(X_test)"
   ]
  },
  {
   "cell_type": "code",
   "execution_count": null,
   "id": "0f331a4c-ffe5-47ff-a0db-8be40983df8a",
   "metadata": {},
   "outputs": [],
   "source": []
  },
  {
   "cell_type": "code",
   "execution_count": 145,
   "id": "571cb506-3ea3-45ec-a425-df2349de6829",
   "metadata": {},
   "outputs": [],
   "source": [
    "# function for cross validation on any model\n",
    "def rmse_cv(model):\n",
    "    kf = KFold(n_folds, shuffle=True, random_state = 91).get_n_splits(numerical_features)\n",
    "    return cross_val_score(model, X_train, y_train, scoring='neg_mean_squared_error', cv=kf)"
   ]
  },
  {
   "cell_type": "markdown",
   "id": "22b38989-d6d7-4f42-8246-7510ae35e1e4",
   "metadata": {},
   "source": [
    "### 4.4 Base model"
   ]
  },
  {
   "cell_type": "code",
   "execution_count": 146,
   "id": "a42bc0a0-f8e3-48cb-8464-c1b6049f54d9",
   "metadata": {},
   "outputs": [
    {
     "name": "stdout",
     "output_type": "stream",
     "text": [
      "lgbm without tunning: 0.17390 +/- 0.005864\n"
     ]
    }
   ],
   "source": [
    "lgbm = LGBMRegressor(n_jobs=-1, random_state=RANDOM_STATE, silent=True)\n",
    "cross_val = rmse_cv(lgbm)\n",
    "print('{}: {:.5f} +/- {:5f}'.format('lgbm without tunning', -cross_val.mean(), cross_val.std()))"
   ]
  },
  {
   "cell_type": "code",
   "execution_count": 172,
   "id": "bb650149-f8cb-42df-abc6-78e7dc4053cf",
   "metadata": {},
   "outputs": [
    {
     "data": {
      "text/plain": [
       "LGBMRegressor(random_state=17)"
      ]
     },
     "execution_count": 172,
     "metadata": {},
     "output_type": "execute_result"
    }
   ],
   "source": [
    "lgbm.fit(X_train, y_train)"
   ]
  },
  {
   "cell_type": "code",
   "execution_count": 174,
   "id": "132d89c8-3ad0-43ae-b5d5-674b6b734753",
   "metadata": {},
   "outputs": [],
   "source": [
    "res_tab = append_res(lgbm, X_train, y_train, X_test, y_test, 'LGBM untunned')"
   ]
  },
  {
   "cell_type": "code",
   "execution_count": 175,
   "id": "efbaabe5-be7d-4c03-88b2-4feb31edb418",
   "metadata": {},
   "outputs": [
    {
     "data": {
      "text/html": [
       "<div>\n",
       "<style scoped>\n",
       "    .dataframe tbody tr th:only-of-type {\n",
       "        vertical-align: middle;\n",
       "    }\n",
       "\n",
       "    .dataframe tbody tr th {\n",
       "        vertical-align: top;\n",
       "    }\n",
       "\n",
       "    .dataframe thead th {\n",
       "        text-align: right;\n",
       "    }\n",
       "</style>\n",
       "<table border=\"1\" class=\"dataframe\">\n",
       "  <thead>\n",
       "    <tr style=\"text-align: right;\">\n",
       "      <th></th>\n",
       "      <th>Model</th>\n",
       "      <th>Train error</th>\n",
       "      <th>Test error</th>\n",
       "    </tr>\n",
       "  </thead>\n",
       "  <tbody>\n",
       "    <tr>\n",
       "      <th>0</th>\n",
       "      <td>CatBoost untunned</td>\n",
       "      <td>-0.170887</td>\n",
       "      <td>0.170927</td>\n",
       "    </tr>\n",
       "    <tr>\n",
       "      <th>1</th>\n",
       "      <td>CatBoost Tunned</td>\n",
       "      <td>0.146618</td>\n",
       "      <td>0.172563</td>\n",
       "    </tr>\n",
       "    <tr>\n",
       "      <th>2</th>\n",
       "      <td>LGBM untunned</td>\n",
       "      <td>0.157152</td>\n",
       "      <td>0.176926</td>\n",
       "    </tr>\n",
       "  </tbody>\n",
       "</table>\n",
       "</div>"
      ],
      "text/plain": [
       "               Model  Train error  Test error\n",
       "0  CatBoost untunned    -0.170887    0.170927\n",
       "1    CatBoost Tunned     0.146618    0.172563\n",
       "2      LGBM untunned     0.157152    0.176926"
      ]
     },
     "execution_count": 175,
     "metadata": {},
     "output_type": "execute_result"
    }
   ],
   "source": [
    "res_tab"
   ]
  },
  {
   "cell_type": "markdown",
   "id": "6cefd094-256e-428b-a28e-348fb914c370",
   "metadata": {},
   "source": [
    "### 4.5 Tunning LGBM"
   ]
  },
  {
   "cell_type": "code",
   "execution_count": 147,
   "id": "1651afe8-09a3-4b01-a3bb-c1009240be9a",
   "metadata": {},
   "outputs": [
    {
     "name": "stdout",
     "output_type": "stream",
     "text": [
      "Fitting 5 folds for each of 10 candidates, totalling 50 fits\n"
     ]
    },
    {
     "data": {
      "text/plain": [
       "RandomizedSearchCV(cv=KFold(n_splits=5, random_state=17, shuffle=True),\n",
       "                   estimator=LGBMRegressor(random_state=17), n_jobs=-1,\n",
       "                   param_distributions={'learning_rate': <scipy.stats._distn_infrastructure.rv_frozen object at 0x00000142A08509A0>,\n",
       "                                        'max_depth': range(2, 20),\n",
       "                                        'n_estimators': range(10, 101, 10),\n",
       "                                        'num_leaves': range(10, 101, 10)},\n",
       "                   scoring='neg_mean_squared_error', verbose=2)"
      ]
     },
     "execution_count": 147,
     "metadata": {},
     "output_type": "execute_result"
    }
   ],
   "source": [
    "params = {\n",
    "    \"max_depth\": range(2,20),\n",
    "    'learning_rate': scipy.stats.uniform(0.01, 0.3),\n",
    "    \"num_leaves\":range(10, 101,10),\n",
    "    'n_estimators': range(10,101,10)\n",
    "}\n",
    "\n",
    "lgbm = LGBMRegressor(n_jobs=-1, random_state=RANDOM_STATE, silent=True)\n",
    "\n",
    "lgbm_cv = RandomizedSearchCV(lgbm, param_distributions=params, cv=KFold(n_splits=5, shuffle=True, random_state=RANDOM_STATE), n_jobs=-1, verbose=2, scoring='neg_mean_squared_error')\n",
    "lgbm_cv.fit(X_train, y_train)"
   ]
  },
  {
   "cell_type": "code",
   "execution_count": 148,
   "id": "47812f33-2aba-4470-83b1-1e7bf67481a6",
   "metadata": {},
   "outputs": [
    {
     "data": {
      "text/plain": [
       "{'learning_rate': 0.11152483718054085,\n",
       " 'max_depth': 7,\n",
       " 'n_estimators': 80,\n",
       " 'num_leaves': 70}"
      ]
     },
     "execution_count": 148,
     "metadata": {},
     "output_type": "execute_result"
    }
   ],
   "source": [
    "lgbm_cv.best_params_"
   ]
  },
  {
   "cell_type": "code",
   "execution_count": 149,
   "id": "3b357960-0d62-4896-9105-578e98852a76",
   "metadata": {},
   "outputs": [],
   "source": [
    "res_tab = append_res(lgbm_cv, X_train, y_train, X_test, y_test, 'LGBM tunned')"
   ]
  },
  {
   "cell_type": "code",
   "execution_count": 150,
   "id": "4e8fd73d-d393-4642-9002-1fd450549841",
   "metadata": {},
   "outputs": [
    {
     "data": {
      "text/html": [
       "<div>\n",
       "<style scoped>\n",
       "    .dataframe tbody tr th:only-of-type {\n",
       "        vertical-align: middle;\n",
       "    }\n",
       "\n",
       "    .dataframe tbody tr th {\n",
       "        vertical-align: top;\n",
       "    }\n",
       "\n",
       "    .dataframe thead th {\n",
       "        text-align: right;\n",
       "    }\n",
       "</style>\n",
       "<table border=\"1\" class=\"dataframe\">\n",
       "  <thead>\n",
       "    <tr style=\"text-align: right;\">\n",
       "      <th></th>\n",
       "      <th>Model</th>\n",
       "      <th>Train error</th>\n",
       "      <th>Test error</th>\n",
       "    </tr>\n",
       "  </thead>\n",
       "  <tbody>\n",
       "    <tr>\n",
       "      <th>0</th>\n",
       "      <td>CatBoost untunned</td>\n",
       "      <td>-0.170855</td>\n",
       "      <td>0.170899</td>\n",
       "    </tr>\n",
       "    <tr>\n",
       "      <th>1</th>\n",
       "      <td>CatBoost Tunned</td>\n",
       "      <td>0.147053</td>\n",
       "      <td>0.172898</td>\n",
       "    </tr>\n",
       "    <tr>\n",
       "      <th>2</th>\n",
       "      <td>LGBM tunned</td>\n",
       "      <td>0.151746</td>\n",
       "      <td>0.176485</td>\n",
       "    </tr>\n",
       "  </tbody>\n",
       "</table>\n",
       "</div>"
      ],
      "text/plain": [
       "               Model  Train error  Test error\n",
       "0  CatBoost untunned    -0.170855    0.170899\n",
       "1    CatBoost Tunned     0.147053    0.172898\n",
       "2        LGBM tunned     0.151746    0.176485"
      ]
     },
     "execution_count": 150,
     "metadata": {},
     "output_type": "execute_result"
    }
   ],
   "source": [
    "res_tab"
   ]
  },
  {
   "cell_type": "markdown",
   "id": "4849c5d6-94d4-4bdc-b581-23e4449c156b",
   "metadata": {},
   "source": [
    "### 5 XGBoost\n",
    "\n",
    "Creating base XGBRegressor model"
   ]
  },
  {
   "cell_type": "code",
   "execution_count": 151,
   "id": "f1420734-76c2-4f01-acad-a03c04bc327f",
   "metadata": {},
   "outputs": [
    {
     "name": "stdout",
     "output_type": "stream",
     "text": [
      "[15:55:43] WARNING: C:/Users/Administrator/workspace/xgboost-win64_release_1.4.0/src/learner.cc:573: \n",
      "Parameters: { \"early_stopping\" } might not be used.\n",
      "\n",
      "  This may not be accurate due to some parameters are only used in language bindings but\n",
      "  passed down to XGBoost core.  Or some parameters are not used but slip through this\n",
      "  verification. Please open an issue if you find above cases.\n",
      "\n",
      "\n"
     ]
    }
   ],
   "source": [
    "xgb_baseline = XGBRegressor(n_estimators=1000, learning_rate=0.05, early_stopping=5)\n",
    "# kf = KFold(n_folds, shuffle=True, random_state = 91).get_n_splits(numerical_features)\n",
    "# cv_res = cross_val_score(xgb_baseline, X_train, y_train, scoring='neg_mean_squared_error', cv=kf)\n",
    "xgb_baseline.fit(X_train, y_train)\n",
    "y_train_xgb_base = xgb_baseline.predict(X_train)\n",
    "y_test_xgb_base = xgb_baseline.predict(X_test)"
   ]
  },
  {
   "cell_type": "code",
   "execution_count": 152,
   "id": "61dcc44b-9796-4eb9-9da0-d65ff4dba320",
   "metadata": {},
   "outputs": [],
   "source": [
    "res_tab = append_res(xgb_baseline, X_train, y_train, X_test, y_test, 'XGB untunned')"
   ]
  },
  {
   "cell_type": "code",
   "execution_count": 153,
   "id": "fb6e2158-9858-4954-8db4-bdff5b5fcb17",
   "metadata": {},
   "outputs": [
    {
     "data": {
      "text/html": [
       "<div>\n",
       "<style scoped>\n",
       "    .dataframe tbody tr th:only-of-type {\n",
       "        vertical-align: middle;\n",
       "    }\n",
       "\n",
       "    .dataframe tbody tr th {\n",
       "        vertical-align: top;\n",
       "    }\n",
       "\n",
       "    .dataframe thead th {\n",
       "        text-align: right;\n",
       "    }\n",
       "</style>\n",
       "<table border=\"1\" class=\"dataframe\">\n",
       "  <thead>\n",
       "    <tr style=\"text-align: right;\">\n",
       "      <th></th>\n",
       "      <th>Model</th>\n",
       "      <th>Train error</th>\n",
       "      <th>Test error</th>\n",
       "    </tr>\n",
       "  </thead>\n",
       "  <tbody>\n",
       "    <tr>\n",
       "      <th>0</th>\n",
       "      <td>CatBoost untunned</td>\n",
       "      <td>-0.170855</td>\n",
       "      <td>0.170899</td>\n",
       "    </tr>\n",
       "    <tr>\n",
       "      <th>1</th>\n",
       "      <td>CatBoost Tunned</td>\n",
       "      <td>0.147053</td>\n",
       "      <td>0.172898</td>\n",
       "    </tr>\n",
       "    <tr>\n",
       "      <th>2</th>\n",
       "      <td>LGBM tunned</td>\n",
       "      <td>0.151746</td>\n",
       "      <td>0.176485</td>\n",
       "    </tr>\n",
       "    <tr>\n",
       "      <th>3</th>\n",
       "      <td>XGB untunned</td>\n",
       "      <td>0.124007</td>\n",
       "      <td>0.179031</td>\n",
       "    </tr>\n",
       "  </tbody>\n",
       "</table>\n",
       "</div>"
      ],
      "text/plain": [
       "               Model  Train error  Test error\n",
       "0  CatBoost untunned    -0.170855    0.170899\n",
       "1    CatBoost Tunned     0.147053    0.172898\n",
       "2        LGBM tunned     0.151746    0.176485\n",
       "3       XGB untunned     0.124007    0.179031"
      ]
     },
     "execution_count": 153,
     "metadata": {},
     "output_type": "execute_result"
    }
   ],
   "source": [
    "res_tab"
   ]
  },
  {
   "cell_type": "markdown",
   "id": "4fd17b6d-b76d-4e2f-ab1d-3df67a21e36e",
   "metadata": {},
   "source": [
    "### 5.1 Tunning XGB"
   ]
  },
  {
   "cell_type": "markdown",
   "id": "cc24a4f3-7313-4a83-a1f2-26da4a876001",
   "metadata": {},
   "source": [
    "**Let's see what's learning rate is the best**"
   ]
  },
  {
   "cell_type": "code",
   "execution_count": null,
   "id": "a860764d-ee74-4dbb-add2-a2bf21d9d36e",
   "metadata": {},
   "outputs": [],
   "source": [
    "d = {'Learning Rate':[],\n",
    "            'Test Error': [],\n",
    "            'Training Error': []}\n",
    "for lr in [0.01, 0.1, 0.05, 0.07, 0.15, 0.06,0.03]:\n",
    "    xgb_model = XGBRegressor(n_estimators=1000, learning_rate=lr, early_stopping=5)\n",
    "    xgb_model.fit(X_train, y_train, verbose=1)\n",
    "    y_train_xgb = xgb_model.predict(X_train)\n",
    "    y_test_xgb = xgb_model.predict(X_test)\n",
    "    d['Learning Rate'].append(lr)\n",
    "    d['Training Error'].append(mean_squared_error(y_train_xgb, y_train))\n",
    "    d['Test Error'].append(mean_squared_error(y_test_xgb, y_test))\n",
    "\n",
    "\n",
    "\n",
    "xgb_tuning_1 = pd.DataFrame(d)\n",
    "xgb_tuning_1\n"
   ]
  },
  {
   "cell_type": "markdown",
   "id": "66ca8f35-cdd9-41d5-af53-4162ee9a5c6b",
   "metadata": {},
   "source": [
    "Best learning rate - 0.3"
   ]
  },
  {
   "cell_type": "code",
   "execution_count": 261,
   "id": "16cc18ef-bcf9-4d02-9a1d-c6e13e05408f",
   "metadata": {},
   "outputs": [
    {
     "data": {
      "text/html": [
       "<div>\n",
       "<style scoped>\n",
       "    .dataframe tbody tr th:only-of-type {\n",
       "        vertical-align: middle;\n",
       "    }\n",
       "\n",
       "    .dataframe tbody tr th {\n",
       "        vertical-align: top;\n",
       "    }\n",
       "\n",
       "    .dataframe thead th {\n",
       "        text-align: right;\n",
       "    }\n",
       "</style>\n",
       "<table border=\"1\" class=\"dataframe\">\n",
       "  <thead>\n",
       "    <tr style=\"text-align: right;\">\n",
       "      <th></th>\n",
       "      <th>Learning Rate</th>\n",
       "      <th>Test Error</th>\n",
       "      <th>Training Error</th>\n",
       "    </tr>\n",
       "  </thead>\n",
       "  <tbody>\n",
       "    <tr>\n",
       "      <th>6</th>\n",
       "      <td>0.03</td>\n",
       "      <td>0.178316</td>\n",
       "      <td>0.137322</td>\n",
       "    </tr>\n",
       "    <tr>\n",
       "      <th>0</th>\n",
       "      <td>0.01</td>\n",
       "      <td>0.178515</td>\n",
       "      <td>0.152714</td>\n",
       "    </tr>\n",
       "    <tr>\n",
       "      <th>2</th>\n",
       "      <td>0.05</td>\n",
       "      <td>0.179031</td>\n",
       "      <td>0.124007</td>\n",
       "    </tr>\n",
       "    <tr>\n",
       "      <th>5</th>\n",
       "      <td>0.06</td>\n",
       "      <td>0.180322</td>\n",
       "      <td>0.116285</td>\n",
       "    </tr>\n",
       "    <tr>\n",
       "      <th>3</th>\n",
       "      <td>0.07</td>\n",
       "      <td>0.181994</td>\n",
       "      <td>0.110332</td>\n",
       "    </tr>\n",
       "    <tr>\n",
       "      <th>1</th>\n",
       "      <td>0.10</td>\n",
       "      <td>0.183217</td>\n",
       "      <td>0.094341</td>\n",
       "    </tr>\n",
       "    <tr>\n",
       "      <th>4</th>\n",
       "      <td>0.15</td>\n",
       "      <td>0.186841</td>\n",
       "      <td>0.074288</td>\n",
       "    </tr>\n",
       "  </tbody>\n",
       "</table>\n",
       "</div>"
      ],
      "text/plain": [
       "   Learning Rate  Test Error  Training Error\n",
       "6           0.03    0.178316        0.137322\n",
       "0           0.01    0.178515        0.152714\n",
       "2           0.05    0.179031        0.124007\n",
       "5           0.06    0.180322        0.116285\n",
       "3           0.07    0.181994        0.110332\n",
       "1           0.10    0.183217        0.094341\n",
       "4           0.15    0.186841        0.074288"
      ]
     },
     "execution_count": 261,
     "metadata": {},
     "output_type": "execute_result"
    }
   ],
   "source": [
    "xgb_tuning_1.sort_values(by='Test Error')"
   ]
  },
  {
   "cell_type": "markdown",
   "id": "481092cb-2dfb-45b7-a2e0-eafb037e9ddf",
   "metadata": {},
   "source": [
    "#### max_depth and min_child_weight optimization"
   ]
  },
  {
   "cell_type": "code",
   "execution_count": 263,
   "id": "4bd8f20c-51a7-4c73-89e9-690d62cb016b",
   "metadata": {},
   "outputs": [
    {
     "name": "stdout",
     "output_type": "stream",
     "text": [
      "[01:29:16] WARNING: C:/Users/Administrator/workspace/xgboost-win64_release_1.4.0/src/learner.cc:573: \n",
      "Parameters: { \"early_stopping\" } might not be used.\n",
      "\n",
      "  This may not be accurate due to some parameters are only used in language bindings but\n",
      "  passed down to XGBoost core.  Or some parameters are not used but slip through this\n",
      "  verification. Please open an issue if you find above cases.\n",
      "\n",
      "\n",
      "[01:29:36] WARNING: C:/Users/Administrator/workspace/xgboost-win64_release_1.4.0/src/learner.cc:573: \n",
      "Parameters: { \"early_stopping\" } might not be used.\n",
      "\n",
      "  This may not be accurate due to some parameters are only used in language bindings but\n",
      "  passed down to XGBoost core.  Or some parameters are not used but slip through this\n",
      "  verification. Please open an issue if you find above cases.\n",
      "\n",
      "\n",
      "[01:29:57] WARNING: C:/Users/Administrator/workspace/xgboost-win64_release_1.4.0/src/learner.cc:573: \n",
      "Parameters: { \"early_stopping\" } might not be used.\n",
      "\n",
      "  This may not be accurate due to some parameters are only used in language bindings but\n",
      "  passed down to XGBoost core.  Or some parameters are not used but slip through this\n",
      "  verification. Please open an issue if you find above cases.\n",
      "\n",
      "\n",
      "[01:30:18] WARNING: C:/Users/Administrator/workspace/xgboost-win64_release_1.4.0/src/learner.cc:573: \n",
      "Parameters: { \"early_stopping\" } might not be used.\n",
      "\n",
      "  This may not be accurate due to some parameters are only used in language bindings but\n",
      "  passed down to XGBoost core.  Or some parameters are not used but slip through this\n",
      "  verification. Please open an issue if you find above cases.\n",
      "\n",
      "\n",
      "[01:30:49] WARNING: C:/Users/Administrator/workspace/xgboost-win64_release_1.4.0/src/learner.cc:573: \n",
      "Parameters: { \"early_stopping\" } might not be used.\n",
      "\n",
      "  This may not be accurate due to some parameters are only used in language bindings but\n",
      "  passed down to XGBoost core.  Or some parameters are not used but slip through this\n",
      "  verification. Please open an issue if you find above cases.\n",
      "\n",
      "\n",
      "[01:31:10] WARNING: C:/Users/Administrator/workspace/xgboost-win64_release_1.4.0/src/learner.cc:573: \n",
      "Parameters: { \"early_stopping\" } might not be used.\n",
      "\n",
      "  This may not be accurate due to some parameters are only used in language bindings but\n",
      "  passed down to XGBoost core.  Or some parameters are not used but slip through this\n",
      "  verification. Please open an issue if you find above cases.\n",
      "\n",
      "\n",
      "[01:31:30] WARNING: C:/Users/Administrator/workspace/xgboost-win64_release_1.4.0/src/learner.cc:573: \n",
      "Parameters: { \"early_stopping\" } might not be used.\n",
      "\n",
      "  This may not be accurate due to some parameters are only used in language bindings but\n",
      "  passed down to XGBoost core.  Or some parameters are not used but slip through this\n",
      "  verification. Please open an issue if you find above cases.\n",
      "\n",
      "\n",
      "[01:31:51] WARNING: C:/Users/Administrator/workspace/xgboost-win64_release_1.4.0/src/learner.cc:573: \n",
      "Parameters: { \"early_stopping\" } might not be used.\n",
      "\n",
      "  This may not be accurate due to some parameters are only used in language bindings but\n",
      "  passed down to XGBoost core.  Or some parameters are not used but slip through this\n",
      "  verification. Please open an issue if you find above cases.\n",
      "\n",
      "\n",
      "[01:32:19] WARNING: C:/Users/Administrator/workspace/xgboost-win64_release_1.4.0/src/learner.cc:573: \n",
      "Parameters: { \"early_stopping\" } might not be used.\n",
      "\n",
      "  This may not be accurate due to some parameters are only used in language bindings but\n",
      "  passed down to XGBoost core.  Or some parameters are not used but slip through this\n",
      "  verification. Please open an issue if you find above cases.\n",
      "\n",
      "\n",
      "[01:32:39] WARNING: C:/Users/Administrator/workspace/xgboost-win64_release_1.4.0/src/learner.cc:573: \n",
      "Parameters: { \"early_stopping\" } might not be used.\n",
      "\n",
      "  This may not be accurate due to some parameters are only used in language bindings but\n",
      "  passed down to XGBoost core.  Or some parameters are not used but slip through this\n",
      "  verification. Please open an issue if you find above cases.\n",
      "\n",
      "\n",
      "[01:32:58] WARNING: C:/Users/Administrator/workspace/xgboost-win64_release_1.4.0/src/learner.cc:573: \n",
      "Parameters: { \"early_stopping\" } might not be used.\n",
      "\n",
      "  This may not be accurate due to some parameters are only used in language bindings but\n",
      "  passed down to XGBoost core.  Or some parameters are not used but slip through this\n",
      "  verification. Please open an issue if you find above cases.\n",
      "\n",
      "\n",
      "[01:33:19] WARNING: C:/Users/Administrator/workspace/xgboost-win64_release_1.4.0/src/learner.cc:573: \n",
      "Parameters: { \"early_stopping\" } might not be used.\n",
      "\n",
      "  This may not be accurate due to some parameters are only used in language bindings but\n",
      "  passed down to XGBoost core.  Or some parameters are not used but slip through this\n",
      "  verification. Please open an issue if you find above cases.\n",
      "\n",
      "\n",
      "[01:33:53] WARNING: C:/Users/Administrator/workspace/xgboost-win64_release_1.4.0/src/learner.cc:573: \n",
      "Parameters: { \"early_stopping\" } might not be used.\n",
      "\n",
      "  This may not be accurate due to some parameters are only used in language bindings but\n",
      "  passed down to XGBoost core.  Or some parameters are not used but slip through this\n",
      "  verification. Please open an issue if you find above cases.\n",
      "\n",
      "\n",
      "[01:34:23] WARNING: C:/Users/Administrator/workspace/xgboost-win64_release_1.4.0/src/learner.cc:573: \n",
      "Parameters: { \"early_stopping\" } might not be used.\n",
      "\n",
      "  This may not be accurate due to some parameters are only used in language bindings but\n",
      "  passed down to XGBoost core.  Or some parameters are not used but slip through this\n",
      "  verification. Please open an issue if you find above cases.\n",
      "\n",
      "\n",
      "[01:34:51] WARNING: C:/Users/Administrator/workspace/xgboost-win64_release_1.4.0/src/learner.cc:573: \n",
      "Parameters: { \"early_stopping\" } might not be used.\n",
      "\n",
      "  This may not be accurate due to some parameters are only used in language bindings but\n",
      "  passed down to XGBoost core.  Or some parameters are not used but slip through this\n",
      "  verification. Please open an issue if you find above cases.\n",
      "\n",
      "\n",
      "[01:35:18] WARNING: C:/Users/Administrator/workspace/xgboost-win64_release_1.4.0/src/learner.cc:573: \n",
      "Parameters: { \"early_stopping\" } might not be used.\n",
      "\n",
      "  This may not be accurate due to some parameters are only used in language bindings but\n",
      "  passed down to XGBoost core.  Or some parameters are not used but slip through this\n",
      "  verification. Please open an issue if you find above cases.\n",
      "\n",
      "\n",
      "[01:35:56] WARNING: C:/Users/Administrator/workspace/xgboost-win64_release_1.4.0/src/learner.cc:573: \n",
      "Parameters: { \"early_stopping\" } might not be used.\n",
      "\n",
      "  This may not be accurate due to some parameters are only used in language bindings but\n",
      "  passed down to XGBoost core.  Or some parameters are not used but slip through this\n",
      "  verification. Please open an issue if you find above cases.\n",
      "\n",
      "\n",
      "[01:36:21] WARNING: C:/Users/Administrator/workspace/xgboost-win64_release_1.4.0/src/learner.cc:573: \n",
      "Parameters: { \"early_stopping\" } might not be used.\n",
      "\n",
      "  This may not be accurate due to some parameters are only used in language bindings but\n",
      "  passed down to XGBoost core.  Or some parameters are not used but slip through this\n",
      "  verification. Please open an issue if you find above cases.\n",
      "\n",
      "\n",
      "[01:36:47] WARNING: C:/Users/Administrator/workspace/xgboost-win64_release_1.4.0/src/learner.cc:573: \n",
      "Parameters: { \"early_stopping\" } might not be used.\n",
      "\n",
      "  This may not be accurate due to some parameters are only used in language bindings but\n",
      "  passed down to XGBoost core.  Or some parameters are not used but slip through this\n",
      "  verification. Please open an issue if you find above cases.\n",
      "\n",
      "\n",
      "[01:37:13] WARNING: C:/Users/Administrator/workspace/xgboost-win64_release_1.4.0/src/learner.cc:573: \n",
      "Parameters: { \"early_stopping\" } might not be used.\n",
      "\n",
      "  This may not be accurate due to some parameters are only used in language bindings but\n",
      "  passed down to XGBoost core.  Or some parameters are not used but slip through this\n",
      "  verification. Please open an issue if you find above cases.\n",
      "\n",
      "\n",
      "[01:37:51] WARNING: C:/Users/Administrator/workspace/xgboost-win64_release_1.4.0/src/learner.cc:573: \n",
      "Parameters: { \"early_stopping\" } might not be used.\n",
      "\n",
      "  This may not be accurate due to some parameters are only used in language bindings but\n",
      "  passed down to XGBoost core.  Or some parameters are not used but slip through this\n",
      "  verification. Please open an issue if you find above cases.\n",
      "\n",
      "\n",
      "[01:38:17] WARNING: C:/Users/Administrator/workspace/xgboost-win64_release_1.4.0/src/learner.cc:573: \n",
      "Parameters: { \"early_stopping\" } might not be used.\n",
      "\n",
      "  This may not be accurate due to some parameters are only used in language bindings but\n",
      "  passed down to XGBoost core.  Or some parameters are not used but slip through this\n",
      "  verification. Please open an issue if you find above cases.\n",
      "\n",
      "\n",
      "[01:38:43] WARNING: C:/Users/Administrator/workspace/xgboost-win64_release_1.4.0/src/learner.cc:573: \n",
      "Parameters: { \"early_stopping\" } might not be used.\n",
      "\n",
      "  This may not be accurate due to some parameters are only used in language bindings but\n",
      "  passed down to XGBoost core.  Or some parameters are not used but slip through this\n",
      "  verification. Please open an issue if you find above cases.\n",
      "\n",
      "\n",
      "[01:39:09] WARNING: C:/Users/Administrator/workspace/xgboost-win64_release_1.4.0/src/learner.cc:573: \n",
      "Parameters: { \"early_stopping\" } might not be used.\n",
      "\n",
      "  This may not be accurate due to some parameters are only used in language bindings but\n",
      "  passed down to XGBoost core.  Or some parameters are not used but slip through this\n",
      "  verification. Please open an issue if you find above cases.\n",
      "\n",
      "\n",
      "[01:39:47] WARNING: C:/Users/Administrator/workspace/xgboost-win64_release_1.4.0/src/learner.cc:573: \n",
      "Parameters: { \"early_stopping\" } might not be used.\n",
      "\n",
      "  This may not be accurate due to some parameters are only used in language bindings but\n",
      "  passed down to XGBoost core.  Or some parameters are not used but slip through this\n",
      "  verification. Please open an issue if you find above cases.\n",
      "\n",
      "\n",
      "[01:40:23] WARNING: C:/Users/Administrator/workspace/xgboost-win64_release_1.4.0/src/learner.cc:573: \n",
      "Parameters: { \"early_stopping\" } might not be used.\n",
      "\n",
      "  This may not be accurate due to some parameters are only used in language bindings but\n",
      "  passed down to XGBoost core.  Or some parameters are not used but slip through this\n",
      "  verification. Please open an issue if you find above cases.\n",
      "\n",
      "\n",
      "[01:40:58] WARNING: C:/Users/Administrator/workspace/xgboost-win64_release_1.4.0/src/learner.cc:573: \n",
      "Parameters: { \"early_stopping\" } might not be used.\n",
      "\n",
      "  This may not be accurate due to some parameters are only used in language bindings but\n",
      "  passed down to XGBoost core.  Or some parameters are not used but slip through this\n",
      "  verification. Please open an issue if you find above cases.\n",
      "\n",
      "\n",
      "[01:41:33] WARNING: C:/Users/Administrator/workspace/xgboost-win64_release_1.4.0/src/learner.cc:573: \n",
      "Parameters: { \"early_stopping\" } might not be used.\n",
      "\n",
      "  This may not be accurate due to some parameters are only used in language bindings but\n",
      "  passed down to XGBoost core.  Or some parameters are not used but slip through this\n",
      "  verification. Please open an issue if you find above cases.\n",
      "\n",
      "\n",
      "[01:42:25] WARNING: C:/Users/Administrator/workspace/xgboost-win64_release_1.4.0/src/learner.cc:573: \n",
      "Parameters: { \"early_stopping\" } might not be used.\n",
      "\n",
      "  This may not be accurate due to some parameters are only used in language bindings but\n",
      "  passed down to XGBoost core.  Or some parameters are not used but slip through this\n",
      "  verification. Please open an issue if you find above cases.\n",
      "\n",
      "\n",
      "[01:43:03] WARNING: C:/Users/Administrator/workspace/xgboost-win64_release_1.4.0/src/learner.cc:573: \n",
      "Parameters: { \"early_stopping\" } might not be used.\n",
      "\n",
      "  This may not be accurate due to some parameters are only used in language bindings but\n",
      "  passed down to XGBoost core.  Or some parameters are not used but slip through this\n",
      "  verification. Please open an issue if you find above cases.\n",
      "\n",
      "\n",
      "[01:43:48] WARNING: C:/Users/Administrator/workspace/xgboost-win64_release_1.4.0/src/learner.cc:573: \n",
      "Parameters: { \"early_stopping\" } might not be used.\n",
      "\n",
      "  This may not be accurate due to some parameters are only used in language bindings but\n",
      "  passed down to XGBoost core.  Or some parameters are not used but slip through this\n",
      "  verification. Please open an issue if you find above cases.\n",
      "\n",
      "\n",
      "[01:44:35] WARNING: C:/Users/Administrator/workspace/xgboost-win64_release_1.4.0/src/learner.cc:573: \n",
      "Parameters: { \"early_stopping\" } might not be used.\n",
      "\n",
      "  This may not be accurate due to some parameters are only used in language bindings but\n",
      "  passed down to XGBoost core.  Or some parameters are not used but slip through this\n",
      "  verification. Please open an issue if you find above cases.\n",
      "\n",
      "\n",
      "[01:45:42] WARNING: C:/Users/Administrator/workspace/xgboost-win64_release_1.4.0/src/learner.cc:573: \n",
      "Parameters: { \"early_stopping\" } might not be used.\n",
      "\n",
      "  This may not be accurate due to some parameters are only used in language bindings but\n",
      "  passed down to XGBoost core.  Or some parameters are not used but slip through this\n",
      "  verification. Please open an issue if you find above cases.\n",
      "\n",
      "\n",
      "[01:46:26] WARNING: C:/Users/Administrator/workspace/xgboost-win64_release_1.4.0/src/learner.cc:573: \n",
      "Parameters: { \"early_stopping\" } might not be used.\n",
      "\n",
      "  This may not be accurate due to some parameters are only used in language bindings but\n",
      "  passed down to XGBoost core.  Or some parameters are not used but slip through this\n",
      "  verification. Please open an issue if you find above cases.\n",
      "\n",
      "\n",
      "[01:47:09] WARNING: C:/Users/Administrator/workspace/xgboost-win64_release_1.4.0/src/learner.cc:573: \n",
      "Parameters: { \"early_stopping\" } might not be used.\n",
      "\n",
      "  This may not be accurate due to some parameters are only used in language bindings but\n",
      "  passed down to XGBoost core.  Or some parameters are not used but slip through this\n",
      "  verification. Please open an issue if you find above cases.\n",
      "\n",
      "\n",
      "[01:47:53] WARNING: C:/Users/Administrator/workspace/xgboost-win64_release_1.4.0/src/learner.cc:573: \n",
      "Parameters: { \"early_stopping\" } might not be used.\n",
      "\n",
      "  This may not be accurate due to some parameters are only used in language bindings but\n",
      "  passed down to XGBoost core.  Or some parameters are not used but slip through this\n",
      "  verification. Please open an issue if you find above cases.\n",
      "\n",
      "\n",
      "[01:48:52] WARNING: C:/Users/Administrator/workspace/xgboost-win64_release_1.4.0/src/learner.cc:573: \n",
      "Parameters: { \"early_stopping\" } might not be used.\n",
      "\n",
      "  This may not be accurate due to some parameters are only used in language bindings but\n",
      "  passed down to XGBoost core.  Or some parameters are not used but slip through this\n",
      "  verification. Please open an issue if you find above cases.\n",
      "\n",
      "\n",
      "[01:49:38] WARNING: C:/Users/Administrator/workspace/xgboost-win64_release_1.4.0/src/learner.cc:573: \n",
      "Parameters: { \"early_stopping\" } might not be used.\n",
      "\n",
      "  This may not be accurate due to some parameters are only used in language bindings but\n",
      "  passed down to XGBoost core.  Or some parameters are not used but slip through this\n",
      "  verification. Please open an issue if you find above cases.\n",
      "\n",
      "\n",
      "[01:50:22] WARNING: C:/Users/Administrator/workspace/xgboost-win64_release_1.4.0/src/learner.cc:573: \n",
      "Parameters: { \"early_stopping\" } might not be used.\n",
      "\n",
      "  This may not be accurate due to some parameters are only used in language bindings but\n",
      "  passed down to XGBoost core.  Or some parameters are not used but slip through this\n",
      "  verification. Please open an issue if you find above cases.\n",
      "\n",
      "\n",
      "[01:51:07] WARNING: C:/Users/Administrator/workspace/xgboost-win64_release_1.4.0/src/learner.cc:573: \n",
      "Parameters: { \"early_stopping\" } might not be used.\n",
      "\n",
      "  This may not be accurate due to some parameters are only used in language bindings but\n",
      "  passed down to XGBoost core.  Or some parameters are not used but slip through this\n",
      "  verification. Please open an issue if you find above cases.\n",
      "\n",
      "\n",
      "[01:52:12] WARNING: C:/Users/Administrator/workspace/xgboost-win64_release_1.4.0/src/learner.cc:573: \n",
      "Parameters: { \"early_stopping\" } might not be used.\n",
      "\n",
      "  This may not be accurate due to some parameters are only used in language bindings but\n",
      "  passed down to XGBoost core.  Or some parameters are not used but slip through this\n",
      "  verification. Please open an issue if you find above cases.\n",
      "\n",
      "\n",
      "[01:52:56] WARNING: C:/Users/Administrator/workspace/xgboost-win64_release_1.4.0/src/learner.cc:573: \n",
      "Parameters: { \"early_stopping\" } might not be used.\n",
      "\n",
      "  This may not be accurate due to some parameters are only used in language bindings but\n",
      "  passed down to XGBoost core.  Or some parameters are not used but slip through this\n",
      "  verification. Please open an issue if you find above cases.\n",
      "\n",
      "\n",
      "[01:53:41] WARNING: C:/Users/Administrator/workspace/xgboost-win64_release_1.4.0/src/learner.cc:573: \n",
      "Parameters: { \"early_stopping\" } might not be used.\n",
      "\n",
      "  This may not be accurate due to some parameters are only used in language bindings but\n",
      "  passed down to XGBoost core.  Or some parameters are not used but slip through this\n",
      "  verification. Please open an issue if you find above cases.\n",
      "\n",
      "\n",
      "[01:54:26] WARNING: C:/Users/Administrator/workspace/xgboost-win64_release_1.4.0/src/learner.cc:573: \n",
      "Parameters: { \"early_stopping\" } might not be used.\n",
      "\n",
      "  This may not be accurate due to some parameters are only used in language bindings but\n",
      "  passed down to XGBoost core.  Or some parameters are not used but slip through this\n",
      "  verification. Please open an issue if you find above cases.\n",
      "\n",
      "\n",
      "[01:55:31] WARNING: C:/Users/Administrator/workspace/xgboost-win64_release_1.4.0/src/learner.cc:573: \n",
      "Parameters: { \"early_stopping\" } might not be used.\n",
      "\n",
      "  This may not be accurate due to some parameters are only used in language bindings but\n",
      "  passed down to XGBoost core.  Or some parameters are not used but slip through this\n",
      "  verification. Please open an issue if you find above cases.\n",
      "\n",
      "\n",
      "[01:56:15] WARNING: C:/Users/Administrator/workspace/xgboost-win64_release_1.4.0/src/learner.cc:573: \n",
      "Parameters: { \"early_stopping\" } might not be used.\n",
      "\n",
      "  This may not be accurate due to some parameters are only used in language bindings but\n",
      "  passed down to XGBoost core.  Or some parameters are not used but slip through this\n",
      "  verification. Please open an issue if you find above cases.\n",
      "\n",
      "\n",
      "[01:57:00] WARNING: C:/Users/Administrator/workspace/xgboost-win64_release_1.4.0/src/learner.cc:573: \n",
      "Parameters: { \"early_stopping\" } might not be used.\n",
      "\n",
      "  This may not be accurate due to some parameters are only used in language bindings but\n",
      "  passed down to XGBoost core.  Or some parameters are not used but slip through this\n",
      "  verification. Please open an issue if you find above cases.\n",
      "\n",
      "\n",
      "[01:57:44] WARNING: C:/Users/Administrator/workspace/xgboost-win64_release_1.4.0/src/learner.cc:573: \n",
      "Parameters: { \"early_stopping\" } might not be used.\n",
      "\n",
      "  This may not be accurate due to some parameters are only used in language bindings but\n",
      "  passed down to XGBoost core.  Or some parameters are not used but slip through this\n",
      "  verification. Please open an issue if you find above cases.\n",
      "\n",
      "\n"
     ]
    },
    {
     "data": {
      "text/html": [
       "<div>\n",
       "<style scoped>\n",
       "    .dataframe tbody tr th:only-of-type {\n",
       "        vertical-align: middle;\n",
       "    }\n",
       "\n",
       "    .dataframe tbody tr th {\n",
       "        vertical-align: top;\n",
       "    }\n",
       "\n",
       "    .dataframe thead th {\n",
       "        text-align: right;\n",
       "    }\n",
       "</style>\n",
       "<table border=\"1\" class=\"dataframe\">\n",
       "  <thead>\n",
       "    <tr style=\"text-align: right;\">\n",
       "      <th></th>\n",
       "      <th>max_depth</th>\n",
       "      <th>min_child_weight</th>\n",
       "      <th>Mean CV Error</th>\n",
       "      <th>CV Error Std</th>\n",
       "      <th>Training Error</th>\n",
       "    </tr>\n",
       "  </thead>\n",
       "  <tbody>\n",
       "    <tr>\n",
       "      <th>0</th>\n",
       "      <td>3</td>\n",
       "      <td>1</td>\n",
       "      <td>0.176195</td>\n",
       "      <td>0.001617</td>\n",
       "      <td>0.153920</td>\n",
       "    </tr>\n",
       "    <tr>\n",
       "      <th>1</th>\n",
       "      <td>3</td>\n",
       "      <td>3</td>\n",
       "      <td>0.174992</td>\n",
       "      <td>0.001363</td>\n",
       "      <td>0.154811</td>\n",
       "    </tr>\n",
       "    <tr>\n",
       "      <th>2</th>\n",
       "      <td>3</td>\n",
       "      <td>5</td>\n",
       "      <td>0.175421</td>\n",
       "      <td>0.001188</td>\n",
       "      <td>0.154853</td>\n",
       "    </tr>\n",
       "    <tr>\n",
       "      <th>3</th>\n",
       "      <td>5</td>\n",
       "      <td>1</td>\n",
       "      <td>0.175547</td>\n",
       "      <td>0.002293</td>\n",
       "      <td>0.117493</td>\n",
       "    </tr>\n",
       "    <tr>\n",
       "      <th>4</th>\n",
       "      <td>5</td>\n",
       "      <td>3</td>\n",
       "      <td>0.174555</td>\n",
       "      <td>0.002233</td>\n",
       "      <td>0.118034</td>\n",
       "    </tr>\n",
       "    <tr>\n",
       "      <th>5</th>\n",
       "      <td>5</td>\n",
       "      <td>5</td>\n",
       "      <td>0.174770</td>\n",
       "      <td>0.002092</td>\n",
       "      <td>0.120049</td>\n",
       "    </tr>\n",
       "    <tr>\n",
       "      <th>6</th>\n",
       "      <td>7</td>\n",
       "      <td>1</td>\n",
       "      <td>0.178206</td>\n",
       "      <td>0.002304</td>\n",
       "      <td>0.071880</td>\n",
       "    </tr>\n",
       "    <tr>\n",
       "      <th>7</th>\n",
       "      <td>7</td>\n",
       "      <td>3</td>\n",
       "      <td>0.177416</td>\n",
       "      <td>0.001748</td>\n",
       "      <td>0.075137</td>\n",
       "    </tr>\n",
       "    <tr>\n",
       "      <th>8</th>\n",
       "      <td>7</td>\n",
       "      <td>5</td>\n",
       "      <td>0.177800</td>\n",
       "      <td>0.001893</td>\n",
       "      <td>0.079953</td>\n",
       "    </tr>\n",
       "    <tr>\n",
       "      <th>9</th>\n",
       "      <td>9</td>\n",
       "      <td>1</td>\n",
       "      <td>0.180941</td>\n",
       "      <td>0.003107</td>\n",
       "      <td>0.035643</td>\n",
       "    </tr>\n",
       "    <tr>\n",
       "      <th>10</th>\n",
       "      <td>9</td>\n",
       "      <td>3</td>\n",
       "      <td>0.181266</td>\n",
       "      <td>0.002846</td>\n",
       "      <td>0.038178</td>\n",
       "    </tr>\n",
       "    <tr>\n",
       "      <th>11</th>\n",
       "      <td>9</td>\n",
       "      <td>5</td>\n",
       "      <td>0.181646</td>\n",
       "      <td>0.002525</td>\n",
       "      <td>0.045277</td>\n",
       "    </tr>\n",
       "  </tbody>\n",
       "</table>\n",
       "</div>"
      ],
      "text/plain": [
       "    max_depth  min_child_weight  Mean CV Error  CV Error Std  Training Error\n",
       "0           3                 1       0.176195      0.001617        0.153920\n",
       "1           3                 3       0.174992      0.001363        0.154811\n",
       "2           3                 5       0.175421      0.001188        0.154853\n",
       "3           5                 1       0.175547      0.002293        0.117493\n",
       "4           5                 3       0.174555      0.002233        0.118034\n",
       "5           5                 5       0.174770      0.002092        0.120049\n",
       "6           7                 1       0.178206      0.002304        0.071880\n",
       "7           7                 3       0.177416      0.001748        0.075137\n",
       "8           7                 5       0.177800      0.001893        0.079953\n",
       "9           9                 1       0.180941      0.003107        0.035643\n",
       "10          9                 3       0.181266      0.002846        0.038178\n",
       "11          9                 5       0.181646      0.002525        0.045277"
      ]
     },
     "execution_count": 263,
     "metadata": {},
     "output_type": "execute_result"
    }
   ],
   "source": [
    "n_folds = 3\n",
    "d = {'max_depth':[],\n",
    "             'min_child_weight': [],\n",
    "            'Mean CV Error': [],\n",
    "            'CV Error Std': [],\n",
    "            'Training Error': []}\n",
    "xgbreg = XGBRegressor(n_estimators=2, learning_rate=0.03, early_stopping=5)\n",
    "params2 = {'max_depth': list(range(3,10,2)), 'min_child_weight': list(range(1,6,2))}\n",
    "#print(params2)\n",
    "#xgb_random.fit(X_train, y_train)\n",
    "kf = KFold(n_folds, shuffle=True, random_state = 91).get_n_splits(X_train)\n",
    "for md in params2['max_depth']:\n",
    "    for mcw in params2['min_child_weight']:\n",
    "        xgb_model = XGBRegressor(n_estimators=1000, learning_rate=0.1, early_stopping=5, max_depth=md, min_child_weight=mcw )\n",
    "        cv_res = -cross_val_score(xgb_model, X_train, y_train, scoring='neg_mean_squared_error', cv=kf)\n",
    "        xgb_model.fit(X_train, y_train)\n",
    "        y_train_xgb = xgb_model.predict(X_train)\n",
    "        d['max_depth'].append(md)\n",
    "        d['min_child_weight'].append(mcw)\n",
    "        d['Mean CV Error'].append(cv_res.mean())\n",
    "        d['CV Error Std'].append(cv_res.std())\n",
    "        # makes no sense to look at max/min when we only have 3 CV folds\n",
    "        #d['Max CV Error'].append(max(cv_res)\n",
    "        #d['Min CV Error'].append(max(cv_res)\n",
    "        d['Training Error'].append(mean_squared_error(y_train_xgb, y_train))\n",
    "\n",
    "xgb_tuning_2 = pd.DataFrame(d)\n",
    "xgb_tuning_2      "
   ]
  },
  {
   "cell_type": "code",
   "execution_count": 264,
   "id": "9b1095ce-4d5c-4d3d-a138-6cb615b4c397",
   "metadata": {},
   "outputs": [
    {
     "data": {
      "text/plain": [
       "(0.172, 0.181)"
      ]
     },
     "execution_count": 264,
     "metadata": {},
     "output_type": "execute_result"
    },
    {
     "data": {
      "image/png": "[encoded data removed]",
      "text/plain": [
       "<Figure size 1440x432 with 2 Axes>"
      ]
     },
     "metadata": {
      "needs_background": "light"
     },
     "output_type": "display_data"
    }
   ],
   "source": [
    "fig, axes = plt.subplots(1, 2, figsize=(20,6))\n",
    "\n",
    "colors = ['orange','green','blue','red']\n",
    "\n",
    "for i, md in enumerate(params2['max_depth']):\n",
    "    color = colors[i]\n",
    "    xgb_tuning_3 = xgb_tuning_2[xgb_tuning_2['max_depth']==md]\n",
    "    axes[0].plot(xgb_tuning_3['min_child_weight'], xgb_tuning_3['Mean CV Error'], color=color, label= 'max_depth='+str(md))\n",
    "    axes[0].plot(xgb_tuning_3['min_child_weight'], xgb_tuning_3['Mean CV Error'], 'o', color='black', label='_nolegend_')\n",
    "    #ax.fill_between(xgb_tuning_3['Max_depth'], xgb_tuning_3['Mean CV Error'] - xgb_tuning_3['CV Error Std'], \n",
    "                    #xgb_tuning_3['Mean CV Error'] + xgb_tuning_3['CV Error Std'], color='r', alpha=.1, label='_nolegend_')\n",
    "    axes[1].plot(xgb_tuning_3['min_child_weight'], xgb_tuning_3['Training Error'], color=color, label='max_depth='+str(md))\n",
    "    axes[1].plot(xgb_tuning_3['min_child_weight'], xgb_tuning_3['Training Error'], 'o', color='black', label='_nolegend_')\n",
    "\n",
    "for ax in axes:\n",
    "    ax.set_xlabel('min_child_weight')\n",
    "    ax.set_ylabel('Mean Squared Error')\n",
    "    \n",
    "axes[0].set_title('CV Error')\n",
    "axes[1].set_title('Training Error')\n",
    "\n",
    "axes[0].legend(fontsize=12, bbox_to_anchor=(0.6, .52, .7, .602), loc=3,);\n",
    "axes[0].set_ylim([0.172, 0.181])"
   ]
  },
  {
   "cell_type": "code",
   "execution_count": 265,
   "id": "9036c279-3809-42b7-9bb9-b4da5ff5d134",
   "metadata": {},
   "outputs": [
    {
     "name": "stdout",
     "output_type": "stream",
     "text": [
      "Optimal parameter values are: \n",
      "max_depth: 5\n",
      "min_child_weight: 3\n"
     ]
    }
   ],
   "source": [
    "print('Optimal parameter values are: ')\n",
    "best = xgb_tuning_2.iloc[xgb_tuning_2.idxmin()['Mean CV Error']]\n",
    "print('max_depth: {}'.format(int(best['max_depth'])))\n",
    "print('min_child_weight: {}'.format(int(best['min_child_weight'])))"
   ]
  },
  {
   "cell_type": "markdown",
   "id": "90e8675c-2a6f-4109-a4d6-cef8bebbc354",
   "metadata": {},
   "source": [
    "### 6. Best model"
   ]
  },
  {
   "cell_type": "code",
   "execution_count": 267,
   "id": "65db6f34-a7c4-4a63-b121-4e1c46da17d9",
   "metadata": {},
   "outputs": [],
   "source": [
    "def rmse_cv(model):\n",
    "    kf = KFold(n_folds, shuffle=True, random_state = 91).get_n_splits(numerical_features)\n",
    "    return cross_val_score(model, X_train, y_train, scoring='neg_mean_squared_error', cv=kf)"
   ]
  },
  {
   "cell_type": "code",
   "execution_count": 289,
   "id": "e82c9853-0819-45e7-b5cf-424e1a0a7d94",
   "metadata": {},
   "outputs": [
    {
     "name": "stdout",
     "output_type": "stream",
     "text": [
      "[02:13:36] WARNING: C:/Users/Administrator/workspace/xgboost-win64_release_1.4.0/src/learner.cc:573: \n",
      "Parameters: { \"early_stopping\" } might not be used.\n",
      "\n",
      "  This may not be accurate due to some parameters are only used in language bindings but\n",
      "  passed down to XGBoost core.  Or some parameters are not used but slip through this\n",
      "  verification. Please open an issue if you find above cases.\n",
      "\n",
      "\n"
     ]
    },
    {
     "data": {
      "text/plain": [
       "XGBRegressor(base_score=0.5, booster='gbtree', colsample_bylevel=1,\n",
       "             colsample_bynode=1, colsample_bytree=1, early_stopping=5,\n",
       "             gamma=0.01, gpu_id=-1, importance_type='gain',\n",
       "             interaction_constraints='', learning_rate=0.03, max_delta_step=0,\n",
       "             max_depth=5, min_child_weight=3, missing=nan,\n",
       "             monotone_constraints='()', n_estimators=1000, n_jobs=12,\n",
       "             num_parallel_tree=1, random_state=0, reg_alpha=0, reg_lambda=1,\n",
       "             scale_pos_weight=1, subsample=1, tree_method='exact',\n",
       "             validate_parameters=1, verbosity=None)"
      ]
     },
     "execution_count": 289,
     "metadata": {},
     "output_type": "execute_result"
    }
   ],
   "source": [
    "xbgreg_best = XGBRegressor(n_estimators=1000, learning_rate=0.03, early_stopping=5, max_depth=5, min_child_weight=3, gamma=0.01 )\n",
    "# xbgreg_CV_best = -rmse_cv(xbgreg_best)\n",
    "xbgreg_best.fit(X_train, y_train) "
   ]
  },
  {
   "cell_type": "code",
   "execution_count": 290,
   "id": "895d7bac-81b4-4c2b-beda-4e07308d0c28",
   "metadata": {},
   "outputs": [],
   "source": [
    "y_train_xgbreg = xbgreg_best.predict(X_train)\n",
    "y_test_xgbreg = xbgreg_best.predict(X_test)"
   ]
  },
  {
   "cell_type": "code",
   "execution_count": 291,
   "id": "a54bc42e-31fa-48ee-86e7-738453ea05c4",
   "metadata": {},
   "outputs": [
    {
     "data": {
      "text/html": [
       "<div>\n",
       "<style scoped>\n",
       "    .dataframe tbody tr th:only-of-type {\n",
       "        vertical-align: middle;\n",
       "    }\n",
       "\n",
       "    .dataframe tbody tr th {\n",
       "        vertical-align: top;\n",
       "    }\n",
       "\n",
       "    .dataframe thead th {\n",
       "        text-align: right;\n",
       "    }\n",
       "</style>\n",
       "<table border=\"1\" class=\"dataframe\">\n",
       "  <thead>\n",
       "    <tr style=\"text-align: right;\">\n",
       "      <th></th>\n",
       "      <th>algorithm</th>\n",
       "      <th>CV error</th>\n",
       "      <th>CV std</th>\n",
       "      <th>training error</th>\n",
       "      <th>test error</th>\n",
       "      <th>training_r2_score</th>\n",
       "      <th>test_r2_score</th>\n",
       "    </tr>\n",
       "  </thead>\n",
       "  <tbody>\n",
       "    <tr>\n",
       "      <th>0</th>\n",
       "      <td>XGBRegressor</td>\n",
       "      <td>0.190033</td>\n",
       "      <td>0.002915</td>\n",
       "      <td>0.15017</td>\n",
       "      <td>0.179835</td>\n",
       "      <td>0.673239</td>\n",
       "      <td>0.606698</td>\n",
       "    </tr>\n",
       "  </tbody>\n",
       "</table>\n",
       "</div>"
      ],
      "text/plain": [
       "      algorithm  CV error    CV std  training error  test error  \\\n",
       "0  XGBRegressor  0.190033  0.002915         0.15017    0.179835   \n",
       "\n",
       "   training_r2_score  test_r2_score  \n",
       "0           0.673239       0.606698  "
      ]
     },
     "execution_count": 291,
     "metadata": {},
     "output_type": "execute_result"
    }
   ],
   "source": [
    "xgb_best_results = pd.DataFrame({'algorithm':['XGBRegressor'],\n",
    "            'CV error': xbgreg_CV_best.mean(), \n",
    "            'CV std': xbgreg_CV_best.std(),\n",
    "            'training error': [mean_squared_error(y_train, y_train_xgbreg)],\n",
    "            'test error': [mean_squared_error(y_test, y_test_xgbreg)],\n",
    "            'training_r2_score': [r2_score(y_train, y_train_xgbreg)],\n",
    "            'test_r2_score': [r2_score(y_test, y_test_xgbreg)]})\n",
    "xgb_best_results"
   ]
  },
  {
   "cell_type": "code",
   "execution_count": 155,
   "id": "1d56809c-0fb4-496f-a434-d5ace90b7a71",
   "metadata": {},
   "outputs": [
    {
     "data": {
      "text/html": [
       "<div>\n",
       "<style scoped>\n",
       "    .dataframe tbody tr th:only-of-type {\n",
       "        vertical-align: middle;\n",
       "    }\n",
       "\n",
       "    .dataframe tbody tr th {\n",
       "        vertical-align: top;\n",
       "    }\n",
       "\n",
       "    .dataframe thead th {\n",
       "        text-align: right;\n",
       "    }\n",
       "</style>\n",
       "<table border=\"1\" class=\"dataframe\">\n",
       "  <thead>\n",
       "    <tr style=\"text-align: right;\">\n",
       "      <th></th>\n",
       "      <th>Model</th>\n",
       "      <th>Train error</th>\n",
       "      <th>Test error</th>\n",
       "    </tr>\n",
       "  </thead>\n",
       "  <tbody>\n",
       "    <tr>\n",
       "      <th>0</th>\n",
       "      <td>CatBoost untunned</td>\n",
       "      <td>-0.170855</td>\n",
       "      <td>0.170899</td>\n",
       "    </tr>\n",
       "    <tr>\n",
       "      <th>1</th>\n",
       "      <td>CatBoost Tunned</td>\n",
       "      <td>0.147053</td>\n",
       "      <td>0.172898</td>\n",
       "    </tr>\n",
       "    <tr>\n",
       "      <th>2</th>\n",
       "      <td>LGBM tunned</td>\n",
       "      <td>0.151746</td>\n",
       "      <td>0.176485</td>\n",
       "    </tr>\n",
       "    <tr>\n",
       "      <th>3</th>\n",
       "      <td>XGB untunned</td>\n",
       "      <td>0.124007</td>\n",
       "      <td>0.179031</td>\n",
       "    </tr>\n",
       "  </tbody>\n",
       "</table>\n",
       "</div>"
      ],
      "text/plain": [
       "               Model  Train error  Test error\n",
       "0  CatBoost untunned    -0.170855    0.170899\n",
       "1    CatBoost Tunned     0.147053    0.172898\n",
       "2        LGBM tunned     0.151746    0.176485\n",
       "3       XGB untunned     0.124007    0.179031"
      ]
     },
     "execution_count": 155,
     "metadata": {},
     "output_type": "execute_result"
    }
   ],
   "source": [
    "res_tab"
   ]
  },
  {
   "cell_type": "code",
   "execution_count": null,
   "id": "d685f3d9-5941-47e7-9cd5-c9d8ade6a62e",
   "metadata": {},
   "outputs": [],
   "source": []
  }
 ],
 "metadata": {
  "kernelspec": {
   "display_name": "Python 3",
   "language": "python",
   "name": "python3"
  },
  "language_info": {
   "codemirror_mode": {
    "name": "ipython",
    "version": 3
   },
   "file_extension": ".py",
   "mimetype": "text/x-python",
   "name": "python",
   "nbconvert_exporter": "python",
   "pygments_lexer": "ipython3",
   "version": "3.8.8"
  }
 },
 "nbformat": 4,
 "nbformat_minor": 5
}
